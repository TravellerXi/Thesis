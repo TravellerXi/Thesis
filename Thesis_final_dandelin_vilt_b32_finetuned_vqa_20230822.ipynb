{
  "cells": [
    {
      "cell_type": "code",
      "execution_count": null,
      "metadata": {
        "id": "pC7cFCMfL6bi"
      },
      "outputs": [],
      "source": [
        "# https://huggingface.co/dandelin/vilt-b32-finetuned-vqa"
      ],
      "id": "pC7cFCMfL6bi"
    },
    {
      "cell_type": "code",
      "execution_count": null,
      "metadata": {
        "id": "M_M-XPplzNfY"
      },
      "outputs": [],
      "source": [
        "def warn(*args, **kwargs):\n",
        "    pass\n",
        "import warnings\n",
        "warnings.warn = warn"
      ],
      "id": "M_M-XPplzNfY"
    },
    {
      "cell_type": "code",
      "execution_count": null,
      "metadata": {
        "colab": {
          "base_uri": "https://localhost:8080/"
        },
        "id": "d386fb6d",
        "outputId": "39cb8d7f-c094-498b-96af-76b35308cd56"
      },
      "outputs": [
        {
          "name": "stdout",
          "output_type": "stream",
          "text": [
            "Collecting transformers\n",
            "  Downloading transformers-4.31.0-py3-none-any.whl (7.4 MB)\n",
            "\u001b[2K     \u001b[90m━━━━━━━━━━━━━━━━━━━━━━━━━━━━━━━━━━━━━━━━\u001b[0m \u001b[32m7.4/7.4 MB\u001b[0m \u001b[31m20.7 MB/s\u001b[0m eta \u001b[36m0:00:00\u001b[0m\n",
            "\u001b[?25hRequirement already satisfied: filelock in /usr/local/lib/python3.10/dist-packages (from transformers) (3.12.2)\n",
            "Collecting huggingface-hub<1.0,>=0.14.1 (from transformers)\n",
            "  Downloading huggingface_hub-0.16.4-py3-none-any.whl (268 kB)\n",
            "\u001b[2K     \u001b[90m━━━━━━━━━━━━━━━━━━━━━━━━━━━━━━━━━━━━━━\u001b[0m \u001b[32m268.8/268.8 kB\u001b[0m \u001b[31m32.7 MB/s\u001b[0m eta \u001b[36m0:00:00\u001b[0m\n",
            "\u001b[?25hRequirement already satisfied: numpy>=1.17 in /usr/local/lib/python3.10/dist-packages (from transformers) (1.23.5)\n",
            "Requirement already satisfied: packaging>=20.0 in /usr/local/lib/python3.10/dist-packages (from transformers) (23.1)\n",
            "Requirement already satisfied: pyyaml>=5.1 in /usr/local/lib/python3.10/dist-packages (from transformers) (6.0.1)\n",
            "Requirement already satisfied: regex!=2019.12.17 in /usr/local/lib/python3.10/dist-packages (from transformers) (2023.6.3)\n",
            "Requirement already satisfied: requests in /usr/local/lib/python3.10/dist-packages (from transformers) (2.31.0)\n",
            "Collecting tokenizers!=0.11.3,<0.14,>=0.11.1 (from transformers)\n",
            "  Downloading tokenizers-0.13.3-cp310-cp310-manylinux_2_17_x86_64.manylinux2014_x86_64.whl (7.8 MB)\n",
            "\u001b[2K     \u001b[90m━━━━━━━━━━━━━━━━━━━━━━━━━━━━━━━━━━━━━━━━\u001b[0m \u001b[32m7.8/7.8 MB\u001b[0m \u001b[31m112.8 MB/s\u001b[0m eta \u001b[36m0:00:00\u001b[0m\n",
            "\u001b[?25hCollecting safetensors>=0.3.1 (from transformers)\n",
            "  Downloading safetensors-0.3.2-cp310-cp310-manylinux_2_17_x86_64.manylinux2014_x86_64.whl (1.3 MB)\n",
            "\u001b[2K     \u001b[90m━━━━━━━━━━━━━━━━━━━━━━━━━━━━━━━━━━━━━━━━\u001b[0m \u001b[32m1.3/1.3 MB\u001b[0m \u001b[31m81.5 MB/s\u001b[0m eta \u001b[36m0:00:00\u001b[0m\n",
            "\u001b[?25hRequirement already satisfied: tqdm>=4.27 in /usr/local/lib/python3.10/dist-packages (from transformers) (4.66.1)\n",
            "Requirement already satisfied: fsspec in /usr/local/lib/python3.10/dist-packages (from huggingface-hub<1.0,>=0.14.1->transformers) (2023.6.0)\n",
            "Requirement already satisfied: typing-extensions>=3.7.4.3 in /usr/local/lib/python3.10/dist-packages (from huggingface-hub<1.0,>=0.14.1->transformers) (4.7.1)\n",
            "Requirement already satisfied: charset-normalizer<4,>=2 in /usr/local/lib/python3.10/dist-packages (from requests->transformers) (3.2.0)\n",
            "Requirement already satisfied: idna<4,>=2.5 in /usr/local/lib/python3.10/dist-packages (from requests->transformers) (3.4)\n",
            "Requirement already satisfied: urllib3<3,>=1.21.1 in /usr/local/lib/python3.10/dist-packages (from requests->transformers) (2.0.4)\n",
            "Requirement already satisfied: certifi>=2017.4.17 in /usr/local/lib/python3.10/dist-packages (from requests->transformers) (2023.7.22)\n",
            "Installing collected packages: tokenizers, safetensors, huggingface-hub, transformers\n",
            "Successfully installed huggingface-hub-0.16.4 safetensors-0.3.2 tokenizers-0.13.3 transformers-4.31.0\n",
            "Collecting accelerate\n",
            "  Downloading accelerate-0.21.0-py3-none-any.whl (244 kB)\n",
            "\u001b[2K     \u001b[90m━━━━━━━━━━━━━━━━━━━━━━━━━━━━━━━━━━━━━━━\u001b[0m \u001b[32m244.2/244.2 kB\u001b[0m \u001b[31m4.4 MB/s\u001b[0m eta \u001b[36m0:00:00\u001b[0m\n",
            "\u001b[?25hRequirement already satisfied: numpy>=1.17 in /usr/local/lib/python3.10/dist-packages (from accelerate) (1.23.5)\n",
            "Requirement already satisfied: packaging>=20.0 in /usr/local/lib/python3.10/dist-packages (from accelerate) (23.1)\n",
            "Requirement already satisfied: psutil in /usr/local/lib/python3.10/dist-packages (from accelerate) (5.9.5)\n",
            "Requirement already satisfied: pyyaml in /usr/local/lib/python3.10/dist-packages (from accelerate) (6.0.1)\n",
            "Requirement already satisfied: torch>=1.10.0 in /usr/local/lib/python3.10/dist-packages (from accelerate) (2.0.1+cu118)\n",
            "Requirement already satisfied: filelock in /usr/local/lib/python3.10/dist-packages (from torch>=1.10.0->accelerate) (3.12.2)\n",
            "Requirement already satisfied: typing-extensions in /usr/local/lib/python3.10/dist-packages (from torch>=1.10.0->accelerate) (4.7.1)\n",
            "Requirement already satisfied: sympy in /usr/local/lib/python3.10/dist-packages (from torch>=1.10.0->accelerate) (1.12)\n",
            "Requirement already satisfied: networkx in /usr/local/lib/python3.10/dist-packages (from torch>=1.10.0->accelerate) (3.1)\n",
            "Requirement already satisfied: jinja2 in /usr/local/lib/python3.10/dist-packages (from torch>=1.10.0->accelerate) (3.1.2)\n",
            "Requirement already satisfied: triton==2.0.0 in /usr/local/lib/python3.10/dist-packages (from torch>=1.10.0->accelerate) (2.0.0)\n",
            "Requirement already satisfied: cmake in /usr/local/lib/python3.10/dist-packages (from triton==2.0.0->torch>=1.10.0->accelerate) (3.27.2)\n",
            "Requirement already satisfied: lit in /usr/local/lib/python3.10/dist-packages (from triton==2.0.0->torch>=1.10.0->accelerate) (16.0.6)\n",
            "Requirement already satisfied: MarkupSafe>=2.0 in /usr/local/lib/python3.10/dist-packages (from jinja2->torch>=1.10.0->accelerate) (2.1.3)\n",
            "Requirement already satisfied: mpmath>=0.19 in /usr/local/lib/python3.10/dist-packages (from sympy->torch>=1.10.0->accelerate) (1.3.0)\n",
            "Installing collected packages: accelerate\n",
            "Successfully installed accelerate-0.21.0\n",
            "Requirement already satisfied: transformers[torch] in /usr/local/lib/python3.10/dist-packages (4.31.0)\n",
            "Requirement already satisfied: filelock in /usr/local/lib/python3.10/dist-packages (from transformers[torch]) (3.12.2)\n",
            "Requirement already satisfied: huggingface-hub<1.0,>=0.14.1 in /usr/local/lib/python3.10/dist-packages (from transformers[torch]) (0.16.4)\n",
            "Requirement already satisfied: numpy>=1.17 in /usr/local/lib/python3.10/dist-packages (from transformers[torch]) (1.23.5)\n",
            "Requirement already satisfied: packaging>=20.0 in /usr/local/lib/python3.10/dist-packages (from transformers[torch]) (23.1)\n",
            "Requirement already satisfied: pyyaml>=5.1 in /usr/local/lib/python3.10/dist-packages (from transformers[torch]) (6.0.1)\n",
            "Requirement already satisfied: regex!=2019.12.17 in /usr/local/lib/python3.10/dist-packages (from transformers[torch]) (2023.6.3)\n",
            "Requirement already satisfied: requests in /usr/local/lib/python3.10/dist-packages (from transformers[torch]) (2.31.0)\n",
            "Requirement already satisfied: tokenizers!=0.11.3,<0.14,>=0.11.1 in /usr/local/lib/python3.10/dist-packages (from transformers[torch]) (0.13.3)\n",
            "Requirement already satisfied: safetensors>=0.3.1 in /usr/local/lib/python3.10/dist-packages (from transformers[torch]) (0.3.2)\n",
            "Requirement already satisfied: tqdm>=4.27 in /usr/local/lib/python3.10/dist-packages (from transformers[torch]) (4.66.1)\n",
            "Requirement already satisfied: torch!=1.12.0,>=1.9 in /usr/local/lib/python3.10/dist-packages (from transformers[torch]) (2.0.1+cu118)\n",
            "Requirement already satisfied: accelerate>=0.20.3 in /usr/local/lib/python3.10/dist-packages (from transformers[torch]) (0.21.0)\n",
            "Requirement already satisfied: psutil in /usr/local/lib/python3.10/dist-packages (from accelerate>=0.20.3->transformers[torch]) (5.9.5)\n",
            "Requirement already satisfied: fsspec in /usr/local/lib/python3.10/dist-packages (from huggingface-hub<1.0,>=0.14.1->transformers[torch]) (2023.6.0)\n",
            "Requirement already satisfied: typing-extensions>=3.7.4.3 in /usr/local/lib/python3.10/dist-packages (from huggingface-hub<1.0,>=0.14.1->transformers[torch]) (4.7.1)\n",
            "Requirement already satisfied: sympy in /usr/local/lib/python3.10/dist-packages (from torch!=1.12.0,>=1.9->transformers[torch]) (1.12)\n",
            "Requirement already satisfied: networkx in /usr/local/lib/python3.10/dist-packages (from torch!=1.12.0,>=1.9->transformers[torch]) (3.1)\n",
            "Requirement already satisfied: jinja2 in /usr/local/lib/python3.10/dist-packages (from torch!=1.12.0,>=1.9->transformers[torch]) (3.1.2)\n",
            "Requirement already satisfied: triton==2.0.0 in /usr/local/lib/python3.10/dist-packages (from torch!=1.12.0,>=1.9->transformers[torch]) (2.0.0)\n",
            "Requirement already satisfied: cmake in /usr/local/lib/python3.10/dist-packages (from triton==2.0.0->torch!=1.12.0,>=1.9->transformers[torch]) (3.27.2)\n",
            "Requirement already satisfied: lit in /usr/local/lib/python3.10/dist-packages (from triton==2.0.0->torch!=1.12.0,>=1.9->transformers[torch]) (16.0.6)\n",
            "Requirement already satisfied: charset-normalizer<4,>=2 in /usr/local/lib/python3.10/dist-packages (from requests->transformers[torch]) (3.2.0)\n",
            "Requirement already satisfied: idna<4,>=2.5 in /usr/local/lib/python3.10/dist-packages (from requests->transformers[torch]) (3.4)\n",
            "Requirement already satisfied: urllib3<3,>=1.21.1 in /usr/local/lib/python3.10/dist-packages (from requests->transformers[torch]) (2.0.4)\n",
            "Requirement already satisfied: certifi>=2017.4.17 in /usr/local/lib/python3.10/dist-packages (from requests->transformers[torch]) (2023.7.22)\n",
            "Requirement already satisfied: MarkupSafe>=2.0 in /usr/local/lib/python3.10/dist-packages (from jinja2->torch!=1.12.0,>=1.9->transformers[torch]) (2.1.3)\n",
            "Requirement already satisfied: mpmath>=0.19 in /usr/local/lib/python3.10/dist-packages (from sympy->torch!=1.12.0,>=1.9->transformers[torch]) (1.3.0)\n"
          ]
        }
      ],
      "source": [
        "!pip install transformers\n",
        "!pip install accelerate -U\n",
        "!pip install transformers[torch]"
      ],
      "id": "d386fb6d"
    },
    {
      "cell_type": "code",
      "execution_count": null,
      "metadata": {
        "colab": {
          "base_uri": "https://localhost:8080/"
        },
        "id": "yUjTP8v3pGqQ",
        "outputId": "de6df9c7-aa56-411e-c977-d76a122b5162"
      },
      "outputs": [
        {
          "name": "stdout",
          "output_type": "stream",
          "text": [
            "Archive:  DATASET.zip\n",
            "  inflating: synpic100176.jpg        \n",
            "  inflating: synpic100132.jpg        \n",
            "  inflating: synpic100228.jpg        \n",
            "  inflating: synpic60423.jpg         \n",
            "  inflating: synpic60703.jpg         \n",
            "  inflating: synpic60254.jpg         \n",
            "  inflating: synpic60831.jpg         \n",
            "  inflating: synpic60543.jpg         \n",
            "  inflating: synpic60096.jpg         \n",
            "  inflating: synpic59935.jpg         \n",
            "  inflating: synpic59536.jpg         \n",
            "  inflating: synpic59356.jpg         \n",
            "  inflating: synpic59126.jpg         \n",
            "  inflating: synpic58261.jpg         \n",
            "  inflating: synpic58902.jpg         \n",
            "  inflating: synpic59131.jpg         \n",
            "  inflating: synpic57368.jpg         \n",
            "  inflating: synpic58547.jpg         \n",
            "  inflating: synpic57935.jpg         \n",
            "  inflating: synpic57813.jpg         \n",
            "  inflating: synpic56422.jpg         \n",
            "  inflating: synpic57317.jpg         \n",
            "  inflating: synpic57520.jpg         \n",
            "  inflating: synpic56841.jpg         \n",
            "  inflating: synpic56799.jpg         \n",
            "  inflating: synpic57237.jpg         \n",
            "  inflating: synpic56061.jpg         \n",
            "  inflating: synpic56388.jpg         \n",
            "  inflating: synpic55948.jpg         \n",
            "  inflating: synpic56344.jpg         \n",
            "  inflating: synpic56116.jpg         \n",
            "  inflating: synpic55317.jpg         \n",
            "  inflating: synpic55583.jpg         \n",
            "  inflating: synpic55464.jpg         \n",
            "  inflating: synpic54823.jpg         \n",
            "  inflating: synpic55286.jpg         \n",
            "  inflating: synpic54610.jpg         \n",
            "  inflating: synpic55245.jpg         \n",
            "  inflating: synpic54391.jpg         \n",
            "  inflating: synpic54802.jpg         \n",
            "  inflating: synpic54795.jpg         \n",
            "  inflating: synpic53574.jpg         \n",
            "  inflating: synpic53635.jpg         \n",
            "  inflating: synpic54004.jpg         \n",
            "  inflating: synpic53978.jpg         \n",
            "  inflating: synpic53867.jpg         \n",
            "  inflating: synpic53816.jpg         \n",
            "  inflating: synpic53287.jpg         \n",
            "  inflating: synpic53228.jpg         \n",
            "  inflating: synpic53207.jpg         \n",
            "  inflating: synpic53097.jpg         \n",
            "  inflating: synpic52828.jpg         \n",
            "  inflating: synpic52932.jpg         \n",
            "  inflating: synpic52951.jpg         \n",
            "  inflating: synpic53033.jpg         \n",
            "  inflating: synpic52767.jpg         \n",
            "  inflating: synpic47737.jpg         \n",
            "  inflating: synpic47020.jpg         \n",
            "  inflating: synpic45544.jpg         \n",
            "  inflating: synpic44995.jpg         \n",
            "  inflating: synpic39757.jpg         \n",
            "  inflating: synpic39088.jpg         \n",
            "  inflating: synpic39301.jpg         \n",
            "  inflating: synpic39141.jpg         \n",
            "  inflating: synpic39086.jpg         \n",
            "  inflating: synpic39240.jpg         \n",
            "  inflating: synpic49862.jpg         \n",
            "  inflating: synpic47783.jpg         \n",
            "  inflating: synpic46976.jpg         \n",
            "  inflating: synpic45699.jpg         \n",
            "  inflating: synpic45162.jpg         \n",
            "  inflating: synpic42805.jpg         \n",
            "  inflating: synpic38531.jpg         \n",
            "  inflating: synpic38858.jpg         \n",
            "  inflating: synpic45364.jpg         \n",
            "  inflating: synpic43648.jpg         \n",
            "  inflating: synpic38263.jpg         \n",
            "  inflating: synpic45039.jpg         \n",
            "  inflating: synpic42307.jpg         \n",
            "  inflating: synpic38069.jpg         \n",
            "  inflating: synpic48714.jpg         \n",
            "  inflating: synpic47356.jpg         \n",
            "  inflating: synpic46943.jpg         \n",
            "  inflating: synpic45115.jpg         \n",
            "  inflating: synpic43609.jpg         \n",
            "  inflating: synpic38630.jpg         \n",
            "  inflating: synpic37605.jpg         \n",
            "  inflating: synpic35155.jpg         \n",
            "  inflating: synpic34947.jpg         \n",
            "  inflating: synpic37275.jpg         \n",
            "  inflating: synpic35914.jpg         \n",
            "  inflating: synpic35356.jpg         \n",
            "  inflating: synpic34922.jpg         \n",
            "  inflating: synpic35191.jpg         \n",
            "  inflating: synpic34515.jpg         \n",
            "  inflating: synpic34854.jpg         \n",
            "  inflating: synpic34713.jpg         \n",
            "  inflating: synpic42951.jpg         \n",
            "  inflating: synpic34836.jpg         \n",
            "  inflating: synpic42290.jpg         \n",
            "  inflating: synpic34449.jpg         \n",
            "  inflating: synpic33889.jpg         \n",
            "  inflating: synpic33892.jpg         \n",
            "  inflating: synpic34017.jpg         \n",
            "  inflating: synpic34054.jpg         \n",
            "  inflating: synpic33481.jpg         \n",
            "  inflating: synpic33429.jpg         \n",
            "  inflating: synpic33844.jpg         \n",
            "  inflating: synpic33689.jpg         \n",
            "  inflating: synpic33422.jpg         \n",
            "  inflating: synpic50943.jpg         \n",
            "  inflating: synpic48749.jpg         \n",
            "  inflating: synpic48122.jpg         \n",
            "  inflating: synpic47196.jpg         \n",
            "  inflating: synpic46720.jpg         \n",
            "  inflating: synpic42245.jpg         \n",
            "  inflating: synpic33378.jpg         \n",
            "  inflating: synpic33331.jpg         \n",
            "  inflating: synpic33302.jpg         \n",
            "  inflating: synpic33226.jpg         \n",
            "  inflating: synpic32933.jpg         \n",
            "  inflating: synpic33102.jpg         \n",
            "  inflating: synpic32981.jpg         \n",
            "  inflating: synpic32970.jpg         \n",
            "  inflating: synpic42210.jpg         \n",
            "  inflating: synpic32962.jpg         \n",
            "  inflating: synpic32727.jpg         \n",
            "  inflating: synpic46764.jpg         \n",
            "  inflating: synpic45914.jpg         \n",
            "  inflating: synpic41772.jpg         \n",
            "  inflating: synpic32081.jpg         \n",
            "  inflating: synpic32012.jpg         \n",
            "  inflating: synpic31962.jpg         \n",
            "  inflating: synpic32136.jpg         \n",
            "  inflating: synpic32108.jpg         \n",
            "  inflating: synpic32084.jpg         \n",
            "  inflating: synpic45634.jpg         \n",
            "  inflating: synpic44865.jpg         \n",
            "  inflating: synpic41788.jpg         \n",
            "  inflating: synpic31955.jpg         \n",
            "  inflating: synpic31928.jpg         \n",
            "  inflating: synpic43433.jpg         \n",
            "  inflating: synpic42202.jpg         \n",
            "  inflating: synpic31259.jpg         \n",
            "  inflating: synpic51426.jpg         \n",
            "  inflating: synpic50958.jpg         \n",
            "  inflating: synpic49027.jpg         \n",
            "  inflating: synpic49381.jpg         \n",
            "  inflating: synpic47974.jpg         \n",
            "  inflating: synpic46539.jpg         \n",
            "  inflating: synpic46062.jpg         \n",
            "  inflating: synpic41667.jpg         \n",
            "  inflating: synpic31916.jpg         \n",
            "  inflating: synpic31467.jpg         \n",
            "  inflating: synpic31757.jpg         \n",
            "  inflating: synpic31400.jpg         \n",
            "  inflating: synpic31394.jpg         \n",
            "  inflating: synpic31256.jpg         \n",
            "  inflating: synpic31248.jpg         \n",
            "  inflating: synpic31232.jpg         \n",
            "  inflating: synpic31217.jpg         \n",
            "  inflating: synpic31116.jpg         \n",
            "  inflating: synpic30324.jpg         \n",
            "  inflating: synpic30273.jpg         \n",
            "  inflating: synpic29795.jpg         \n",
            "  inflating: synpic51383.jpg         \n",
            "  inflating: synpic49914.jpg         \n",
            "  inflating: synpic50962.jpg         \n",
            "  inflating: synpic48091.jpg         \n",
            "  inflating: synpic47191.jpg         \n",
            "  inflating: synpic45557.jpg         \n",
            "  inflating: synpic42182.jpg         \n",
            "  inflating: synpic29265.jpg         \n",
            "  inflating: synpic30215.jpg         \n",
            "  inflating: synpic29263.jpg         \n",
            "  inflating: synpic29219.jpg         \n",
            "  inflating: synpic28987.jpg         \n",
            "  inflating: synpic29771.jpg         \n",
            "  inflating: synpic27047.jpg         \n",
            "  inflating: synpic27597.jpg         \n",
            "  inflating: synpic27576.jpg         \n",
            "  inflating: synpic27402.jpg         \n",
            "  inflating: synpic27277.jpg         \n",
            "  inflating: synpic27013.jpg         \n",
            "  inflating: synpic26697.jpg         \n",
            "  inflating: synpic26764.jpg         \n",
            "  inflating: synpic26413.jpg         \n",
            "  inflating: synpic26925.jpg         \n",
            "  inflating: synpic29048.jpg         \n",
            "  inflating: synpic28718.jpg         \n",
            "  inflating: synpic25821.jpg         \n",
            "  inflating: synpic25758.jpg         \n",
            "  inflating: synpic25534.jpg         \n",
            "  inflating: synpic26158.jpg         \n",
            "  inflating: synpic26248.jpg         \n",
            "  inflating: synpic28569.jpg         \n",
            "  inflating: synpic24424.jpg         \n",
            "  inflating: synpic24729.jpg         \n",
            "  inflating: synpic25587.jpg         \n",
            "  inflating: synpic28180.jpg         \n",
            "  inflating: synpic28378.jpg         \n",
            "  inflating: synpic28355.jpg         \n",
            "  inflating: synpic28277.jpg         \n",
            "  inflating: synpic28602.jpg         \n",
            "  inflating: synpic28210.jpg         \n",
            "  inflating: synpic28695.jpg         \n",
            "  inflating: synpic27655.jpg         \n",
            "  inflating: synpic27985.jpg         \n",
            "  inflating: synpic27646.jpg         \n",
            "  inflating: synpic27601.jpg         \n",
            "  inflating: synpic27198.jpg         \n",
            "  inflating: synpic27142.jpg         \n",
            "  inflating: synpic24967.jpg         \n",
            "  inflating: synpic25105.jpg         \n",
            "  inflating: synpic24538.jpg         \n",
            "  inflating: synpic24878.jpg         \n",
            "  inflating: synpic24390.jpg         \n",
            "  inflating: synpic24350.jpg         \n",
            "  inflating: synpic23803.jpg         \n",
            "  inflating: synpic24248.jpg         \n",
            "  inflating: synpic24319.jpg         \n",
            "  inflating: synpic24220.jpg         \n",
            "  inflating: synpic23989.jpg         \n",
            "  inflating: synpic23648.jpg         \n",
            "  inflating: synpic23631.jpg         \n",
            "  inflating: synpic23571.jpg         \n",
            "  inflating: synpic22982.jpg         \n",
            "  inflating: synpic23053.jpg         \n",
            "  inflating: synpic23130.jpg         \n",
            "  inflating: synpic22967.jpg         \n",
            "  inflating: synpic23008.jpg         \n",
            "  inflating: synpic22874.jpg         \n",
            "  inflating: synpic22828.jpg         \n",
            "  inflating: synpic22794.jpg         \n",
            "  inflating: synpic22791.jpg         \n",
            "  inflating: synpic22684.jpg         \n",
            "  inflating: synpic22286.jpg         \n",
            "  inflating: synpic22156.jpg         \n",
            "  inflating: synpic22310.jpg         \n",
            "  inflating: synpic21995.jpg         \n",
            "  inflating: synpic21902.jpg         \n",
            "  inflating: synpic22097.jpg         \n",
            "  inflating: synpic22037.jpg         \n",
            "  inflating: synpic22020.jpg         \n",
            "  inflating: synpic21776.jpg         \n",
            "  inflating: synpic21734.jpg         \n",
            "  inflating: synpic21604.jpg         \n",
            "  inflating: synpic21700.jpg         \n",
            "  inflating: synpic21410.jpg         \n",
            "  inflating: synpic21044.jpg         \n",
            "  inflating: synpic21037.jpg         \n",
            "  inflating: synpic21042.jpg         \n",
            "  inflating: synpic20260.jpg         \n",
            "  inflating: synpic21028.jpg         \n",
            "  inflating: synpic20626.jpg         \n",
            "  inflating: synpic19605.jpg         \n",
            "  inflating: synpic20375.jpg         \n",
            "  inflating: synpic20208.jpg         \n",
            "  inflating: synpic19853.jpg         \n",
            "  inflating: synpic19782.jpg         \n",
            "  inflating: synpic19118.jpg         \n",
            "  inflating: synpic19477.jpg         \n",
            "  inflating: synpic19232.jpg         \n",
            "  inflating: synpic19114.jpg         \n",
            "  inflating: synpic18896.jpg         \n",
            "  inflating: synpic18651.jpg         \n",
            "  inflating: synpic17738.jpg         \n",
            "  inflating: synpic17848.jpg         \n",
            "  inflating: synpic18250.jpg         \n",
            "  inflating: synpic18461.jpg         \n",
            "  inflating: synpic18319.jpg         \n",
            "  inflating: synpic17675.jpg         \n",
            "  inflating: synpic17693.jpg         \n",
            "  inflating: synpic17664.jpg         \n",
            "  inflating: synpic17145.jpg         \n",
            "  inflating: synpic17153.jpg         \n",
            "  inflating: synpic16810.jpg         \n",
            "  inflating: synpic16407.jpg         \n",
            "  inflating: synpic16520.jpg         \n",
            "  inflating: synpic16174.jpg         \n",
            "  inflating: synpic16221.jpg         \n",
            "  inflating: synpic16170.jpg         \n",
            "  inflating: synpic13385.jpg         \n",
            "  inflating: synpic12210.jpg         \n",
            "  inflating: synpic9872.jpg          \n",
            "  inflating: synpic15006.jpg         \n",
            "  inflating: synpic676.jpg           \n",
            "  inflating: synpic52988.jpg         \n",
            "  inflating: synpic52732.jpg         \n",
            "  inflating: synpic51774.jpg         \n",
            "  inflating: synpic52248.jpg         \n",
            "  inflating: synpic52282.jpg         \n",
            "  inflating: synpic51926.jpg         \n",
            "  inflating: synpic51872.jpg         \n",
            "  inflating: synpic51709.jpg         \n",
            "  inflating: synpic42157.jpg         \n",
            "  inflating: synpic41325.jpg         \n",
            "  inflating: synpic41119.jpg         \n",
            "  inflating: synpic40500.jpg         \n",
            "  inflating: synpic41050.jpg         \n",
            "  inflating: synpic40596.jpg         \n",
            "  inflating: synpic40464.jpg         \n",
            "  inflating: synpic40520.jpg         \n",
            "  inflating: synpic40426.jpg         \n",
            "  inflating: synpic40096.jpg         \n",
            "  inflating: synpic40314.jpg         \n",
            "  inflating: synpic39532.jpg         \n",
            "  inflating: synpic45610.jpg         \n",
            "  inflating: synpic39460.jpg         \n",
            "  inflating: synpic40272.jpg         \n",
            "  inflating: synpic51212.jpg         \n",
            "  inflating: synpic51282.jpg         \n",
            "  inflating: synpic50949.jpg         \n",
            "  inflating: synpic50848.jpg         \n",
            "  inflating: synpic47964.jpg         \n"
          ]
        }
      ],
      "source": [
        "!unzip DATASET.zip"
      ],
      "id": "yUjTP8v3pGqQ"
    },
    {
      "cell_type": "code",
      "execution_count": null,
      "metadata": {
        "id": "8cb92875"
      },
      "outputs": [],
      "source": [
        "import torch\n",
        "from transformers import ViltProcessor, ViltForQuestionAnswering, AdamW\n",
        "from PIL import Image\n",
        "import json\n",
        "from transformers import DataCollatorWithPadding, Trainer, TrainingArguments\n",
        "\n",
        "from transformers import ViltForQuestionAnswering\n",
        "import transformers\n",
        "transformers.utils.logging.set_verbosity_error\n",
        "import warnings\n",
        "warnings.filterwarnings('ignore')\n",
        "\n"
      ],
      "id": "8cb92875"
    },
    {
      "cell_type": "code",
      "execution_count": null,
      "metadata": {
        "id": "085084ef"
      },
      "outputs": [],
      "source": [
        "import pandas as pd\n",
        "\n",
        "df = pd.read_json('DATASET.json')"
      ],
      "id": "085084ef"
    },
    {
      "cell_type": "code",
      "execution_count": null,
      "metadata": {
        "colab": {
          "base_uri": "https://localhost:8080/"
        },
        "id": "4f3df503",
        "outputId": "c750f236-8155-4ea1-a155-fe3f0a513696"
      },
      "outputs": [
        {
          "name": "stdout",
          "output_type": "stream",
          "text": [
            "       qid phrase_type                         qid_linked_id  \\\n",
            "0        0    freeform  03f451ca-de62-4617-9679-e836026a7642   \n",
            "1        1    freeform  06e26b2c-04b9-42bc-8e98-1de30a0f7682   \n",
            "2        2    freeform  0d0e8b6b-7753-4788-9b6d-dc7f25250c3f   \n",
            "3        3    freeform  0e90b6bc-265f-490b-a039-509b9907a3cb   \n",
            "4        4    freeform  1179f612-12e0-4dda-aee0-f14a5200be7b   \n",
            "...    ...         ...                                   ...   \n",
            "2243  2243        para  6e01da36-ccda-4462-81c4-c7b5e495fb99   \n",
            "2244  2244    freeform  9a4e1869-5c76-4af6-81e4-1864db18bbbe   \n",
            "2245  2245        para  9a4e1869-5c76-4af6-81e4-1864db18bbbe   \n",
            "2246  2246    freeform  e2c3565f-a137-406d-8ab0-de869c86cbee   \n",
            "2247  2247        para  e2c3565f-a137-406d-8ab0-de869c86cbee   \n",
            "\n",
            "                                         image_case_url       image_name  \\\n",
            "0     https://medpix.nlm.nih.gov/case?id=48e1dd0e-85...  synpic54610.jpg   \n",
            "1     https://medpix.nlm.nih.gov/case?id=b197277b-69...  synpic29265.jpg   \n",
            "2     https://medpix.nlm.nih.gov/case?id=b197277b-69...  synpic29265.jpg   \n",
            "3     https://medpix.nlm.nih.gov/case?id=19aa8a2b-35...  synpic28602.jpg   \n",
            "4     https://medpix.nlm.nih.gov/case?id=b197277b-69...  synpic29265.jpg   \n",
            "...                                                 ...              ...   \n",
            "2243  https://medpix.nlm.nih.gov/case?id=5dd90eed-4b...  synpic56841.jpg   \n",
            "2244  https://medpix.nlm.nih.gov/case?id=5133d5d4-19...  synpic26764.jpg   \n",
            "2245  https://medpix.nlm.nih.gov/case?id=5133d5d4-19...  synpic26764.jpg   \n",
            "2246  https://medpix.nlm.nih.gov/case?id=187330b9-9d...  synpic31232.jpg   \n",
            "2247  https://medpix.nlm.nih.gov/case?id=187330b9-9d...  synpic31232.jpg   \n",
            "\n",
            "     image_organ     evaluation  \\\n",
            "0           HEAD  not evaluated   \n",
            "1          CHEST  not evaluated   \n",
            "2          CHEST  not evaluated   \n",
            "3          CHEST          given   \n",
            "4          CHEST          given   \n",
            "...          ...            ...   \n",
            "2243        HEAD      evaluated   \n",
            "2244       CHEST      evaluated   \n",
            "2245       CHEST      evaluated   \n",
            "2246         ABD      evaluated   \n",
            "2247         ABD      evaluated   \n",
            "\n",
            "                                               question  \\\n",
            "0                   Are regions of the brain infarcted?   \n",
            "1                       Are the lungs normal appearing?   \n",
            "2                   Is there evidence of a pneumothorax   \n",
            "3         What type of imaging does this not represent?   \n",
            "4                           Is this a MRI of the chest?   \n",
            "...                                                 ...   \n",
            "2243           Is this image modality T1, T2, or FLAIR?   \n",
            "2244                                 Is this a PA film?   \n",
            "2245               Is this film taken in a PA modality?   \n",
            "2246  What is the hypodensity located inside the ver...   \n",
            "2247  What is the hypo-dense area seen in the verteb...   \n",
            "\n",
            "                                      question_rephrase question_relation  \\\n",
            "0                                                  NULL              NULL   \n",
            "1                                                  NULL              NULL   \n",
            "2                                                  NULL              NULL   \n",
            "3                                                  NULL              NULL   \n",
            "4                                                  NULL              NULL   \n",
            "...                                                 ...               ...   \n",
            "2243  Is this a T1 weighted, T2 weighted, or FLAIR i...  strict agreement   \n",
            "2244               Is this film taken in a PA modality?  strict agreement   \n",
            "2245                                 Is this a PA film?  strict agreement   \n",
            "2246  What is the hypo-dense area seen in the verteb...  strict agreement   \n",
            "2247  What is the hypodensity located inside the ver...  strict agreement   \n",
            "\n",
            "                                   question_frame question_type  \\\n",
            "0                                            NULL          PRES   \n",
            "1                                            NULL           ABN   \n",
            "2                                            NULL          PRES   \n",
            "3                                            NULL      MODALITY   \n",
            "4                                            NULL      MODALITY   \n",
            "...                                           ...           ...   \n",
            "2243  What is/are the image weighting of the MRI?      MODALITY   \n",
            "2244                                         NULL         PLANE   \n",
            "2245                                         NULL         PLANE   \n",
            "2246                                         NULL          PRES   \n",
            "2247                                         NULL          PRES   \n",
            "\n",
            "                answer answer_type  \n",
            "0                  Yes      CLOSED  \n",
            "1                   No      CLOSED  \n",
            "2                   No      CLOSED  \n",
            "3           ultrasound        OPEN  \n",
            "4                   no      CLOSED  \n",
            "...                ...         ...  \n",
            "2243             FLAIR      CLOSED  \n",
            "2244               Yes      CLOSED  \n",
            "2245               Yes      CLOSED  \n",
            "2246  Nucleus Pulposus        OPEN  \n",
            "2247  Nucleus Pulposus        OPEN  \n",
            "\n",
            "[2248 rows x 14 columns]\n"
          ]
        }
      ],
      "source": [
        "print(df)"
      ],
      "id": "4f3df503"
    },
    {
      "cell_type": "code",
      "execution_count": null,
      "metadata": {
        "colab": {
          "base_uri": "https://localhost:8080/"
        },
        "id": "c3d371ea",
        "outputId": "1bfc2e63-8ee0-4ee4-85a1-ed3dd95a77c7"
      },
      "outputs": [
        {
          "name": "stdout",
          "output_type": "stream",
          "text": [
            "{'Yes': 0, 'No': 1, 'ultrasound': 2, 'no': 3, 'The extremities': 4, 'yes': 5, 'left temporal lobe': 6, 'Cardiovascular': 7, 'vasculature': 8, 'MRI Diffusion Weighted': 9, 'the brain': 10, 'Posterior-Anterior': 11, 'Chest X-ray': 12, 'Axial': 13, 'Asymmetric': 14, 'Pulmonary nodules': 15, 'Free air': 16, 'hypodense lesion': 17, 'GI': 18, 'Ring-enhancing lesion': 19, 'Diffuse': 20, 'CT': 21, 'Chest x-ray': 22, 'Pancreas': 23, 'Right upper lobe': 24, 'Hypodense': 25, 'Left hepatic lobe': 26, 'Lungs': 27, 'Bilateral': 28, 'Cirrhosis': 29, 'Atherosclerotic calcification': 30, 'right parietal lobe': 31, 'Chest': 32, 'metastasis': 33, 'axial': 34, 'PA': 35, 'Enlarged': 36, 'Volume loss': 37, 'one': 38, 'extraluminal air and small fluid collection': 39, 'Nodular opacities': 40, 'extra-axial and at the right choroidal fissure': 41, 'Prior surgery': 42, 'Ring-enhancing lesions': 43, 'right temporal lobe': 44, 'Gallstones': 45, 'Right': 46, 'abscess': 47, 'Cystic lesions': 48, 'middle mogul': 49, 'Right lung': 50, 'enlarged, fluid-filled': 51, 'Pancreatic body': 52, 'Right lobe of the liver': 53, 'Right hemisphere': 54, 'Right PCA': 55, 'Basal ganglia': 56, 'Right superior cavoatrial junction': 57, 'x-ray': 58, 'Ischemia': 59, 'Suprasellar cistern': 60, 'Above': 61, '4th and 5th': 62, 'T5': 63, 'Less than half the thorax': 64, 'None': 65, '5 cm': 66, 'Superior': 67, 'High on the image': 68, 'Right side': 69, 'Left side': 70, 'Periappendiceal fluid and fat stranding': 71, 'One': 72, 'kidneys': 73, 'Small bowel': 74, 'Left temporal lobe': 75, 'Left': 76, 'Heart \\tlungs': 77, 'It is less than half the width of the thorax': 78, 'Left kidney': 79, 'Both': 80, 'more dense': 81, 'cystic lesions': 82, 'less dense': 83, 'surrounding tissue': 84, 'Less dense': 85, 'The surrounding tissue': 86, 'Blood vessel': 87, 'Above the clavicles bilaterally': 88, 'Gastrointestinal': 89, 'Right lower lobe': 90, 'In the thorasic aorta': 91, 'Width of aorta': 92, 'Posterior to the appendix': 93, 'Psoas muscle': 94, '7th rib': 95, 'Left lung': 96, 'Edematous': 97, 'Right lung base': 98, 'Anterior mediastinum': 99, 'Right lung hilum': 100, 'left hemisphere': 101, 'Right lobe': 102, 'On the right shoulder.': 103, 'Pacemaker': 104, 'A bullous lesion': 105, 'X-ray': 106, 'Not seen here': 107, 'In the right hilum': 108, 'Upper right lobe': 109, 'Smaller': 110, 'Contrast in the intestines': 111, 'Calcifications': 112, 'Skull \\tcartilage and medulla': 113, 'The right bronchus': 114, 'Left upper lobe': 115, 'Lung': 116, 'Imaging artifacts': 117, 'Contrast': 118, 'Posteroanterior': 119, 'Plain film x-ray': 120, 'Right frontal lobe': 121, 'The small intestines': 122, 'It is shifted to the right': 123, 'Occipital lobe': 124, 'The diaphragm': 125, 'A bit': 126, 'The posterior horn of the left lateral ventricle': 127, 'The liver': 128, 'Infarcted areas': 129, 'Just one': 130, 'Fat accumulations': 131, 'CT with contrast': 132, 'Scoliosis': 133, 'lateral ventricles': 134, 'Solid': 135, 'supratentorial': 136, 'Female': 137, '10-20 minutes': 138, 'White matter': 139, 'Lateral ventricles': 140, 'Abscess': 141, 'Large bowel': 142, 'lungs \\tbony thoracic cavit y\\tmediastinum and great vessels': 143, 'retroperitoneum; retroperitoneal space': 144, '~15 minutes\\tpotentially faster with newer imaging systems': 145, 'fat': 146, 'Medical process': 147, 'moderate edema': 148, 'mid left subclavian vein': 149, 'anterior to the transverse colon': 150, 'ring enhancing lesion in the left occipital lobe': 151, 'T2-MRI': 152, 'parietal and occipital lobes': 153, 'PRES': 154, 'cardiomegaly with pulmonary edema': 155, 'CNS': 156, 'cecum': 157, 'mass': 158, 'pulmonary/lymphatic': 159, 'CXR': 160, 'Coronal': 161, 'ring enhancing lesion': 162, 'Left Apical Pneumothorax': 163, 'coronal': 164, 'vascular': 165, 'cardiomegaly': 166, 'sternotomy wires and surgical clips': 167, 'head of the pancreas': 168, 'FLAIR MRI': 169, 'The pancreatic head': 170, 'T2 weighted MRI': 171, 'Left lateral aspect of anterior peritoneum': 172, 'The base of the cecum': 173, 'Left mid lung': 174, '4th ventricle': 175, 'Fat stranding around the appendix, thickened appendiceal walls, dilated appendix, and an appendicolith is seen as well': 176, 'Ring enhancing lesion in the right frontal lobe': 177, 'Right lenticular nucleus': 178, 'Air': 179, '3rd rib': 180, 'X-ray plain film': 181, 'The left kidney': 182, 'Respiratory System': 183, 'The abdomen': 184, 'Xray - plain film': 185, 'Omental caking': 186, 'Diffusion Weighted Imaging (DWI)': 187, 'Axial plane': 188, 'MRI': 189, 'The right frontal lobe': 190, 'The pancreas': 191, 'Contrast CT with GI and IV contrast': 192, 'The left costophrenic angle is blunted': 193, 'Non-contrast CT': 194, 'The left occipital lobe': 195, 'CT with GI and IV contrast': 196, 'The aorta': 197, 'The aorta and the inferior vena cava': 198, 'The 3rd ventricle and the lateral ventricles': 199, 'abdomen': 200, 'Regression of left frontal mass': 201, 'Subarachnoid': 202, 'Medial rectus': 203, 'Imagine the patient is laying down and you are looking from the feet': 204, 'Bowel contents light up on image': 205, 'IVC': 206, 'Chest xray': 207, 'Loculated': 208, 'chest x Ray': 209, 'Medial and lateral rectus': 210, 'Pineal gland': 211, 'Cardiac region': 212, 'Infarct': 213, 'Congenital developmental disorder? History of surgery and past manipulation?': 214, 'MR FLAIR': 215, 'Right cerebellum': 216, 'R frontal lobe': 217, 'Right Cerebellum': 218, 'Respiratory \\tcardia c\\tmusculoskeletal': 219, 'CSF is white': 220, 'T2': 221, 'Ring enhancing lesion': 222, 'coronal plane?': 223, 'bilateral cerebellum': 224, 'Left Parietal lobe': 225, 'Sternal wires': 226, 'right sided aortic arch': 227, 'cerebellum': 228, 'MRI - T2 weighted': 229, 'with contrast': 230, 'right lower lateral lung field': 231, '3.4 cm': 232, 'sella and suprasellar cistern': 233, 'T2 weighted': 234, 'Brain': 235, 'Left thalamus and basal ganglia': 236, 'Oculomotor nerve (CN III) and Trigeminal nerves (CN V)': 237, 'PA Xray': 238, 'Basilar artery': 239, 'With contrast': 240, 'heterogeneous': 241, 'right lateral ventricle': 242, 'DWI': 243, 'Right cerebellopontine angle': 244, 'Kidneys': 245, 'Adipose tissue': 246, 'Upper lobes': 247, 'CSF': 248, 'MRI - T1 weighted': 249, 'Hydrocephalus': 250, 'right': 251, 'Xray': 252, 'Right posteroinferior cerebellum': 253, 'bleeding in the right posteroinferior cerebellum': 254, 'Left cerebellum': 255, 'Supine (see air-fluid level)': 256, 'Gallbladder': 257, 'Ribs': 258, 'Choroid plexus': 259, 'Cartilage is not well viewed by x rays': 260, 'Lung markings present all the way laterally to the ribs': 261, 'The right mainstem bronchus is more in line with the trachea than the left': 262, 'air fluid level': 263, 'Intestine': 264, 'Stomach bubble': 265, 'Right PICA': 266, 'Sulcal effacement': 267, 'Temporal lobe': 268, 'L2': 269, 'L2-3': 270, 'Lateral film as well as PA': 271, 'Maxillary sinuses': 272, 'Lying supine with their feet towards the screen': 273, 'Left occipital lobe': 274, 'Right temporal lobe': 275, 'Sacroiliac joint': 276, 'Fat': 277, 'Right vs left sided pathology': 278, 'Varicocele': 279, 'Calcification': 280, 'Elliptical': 281, 'Smooth': 282, 'Left temporal horn': 283, 'Ring-enhancing': 284, 'Right side of the trachea': 285, 'Posterior brain': 286, 'hypoxic ischemic injury': 287, 'Loss of normal gray-white matter junction': 288, 'intestines': 289, 'Abdomen and pelvis': 290, 'Lateral and third ventricular hydrocephalus': 291, 'Retrocardiac': 292, 'Below the 7th rib in the right lung.': 293, 'Single lung nodule': 294, 'Blind loop syndrome': 295, 'Blind-ending loop of bowel arising from the cecum': 296, 'Pineal region': 297, 'Bilateral frontal lobes': 298, 'MRI-DWI': 299, 'Right colon': 300, 'Isointense': 301, 'Hyperintense': 302, 'IV contrast': 303, 'Diverticulitis': 304, 'Micronodular': 305, 'Left rectus abdominus': 306, 'nipple location': 307, 'bilateral frontal lobes and body of corpus callosum': 308, 'distal basilar artery': 309, 'suprasellar': 310, 'MRI/FLAIR': 311, 'left ACA and MCA': 312, 'brain': 313, 'Caudate, putamen, left parietal': 314, 'anterior cerebrum': 315, 'Anterior surface': 316, 'ascites': 317, 'MRI-FLAIR': 318, 'right kidney': 319, 'Hemorrhage': 320, 'kidney cyst': 321, 'Pericholecystic fluid': 322, 'MR - T2 weighted': 323, 'contrast': 324, 'fatty infiltration': 325, 'jejunum': 326, 'MR - ADC Map': 327, 'nodules': 328, 'descending colon': 329, 'thalami, left occipital lobe, brainstem and left cerebellum': 330, 'pancreas': 331, 'Adjacent to vertebrae': 332, 'MR - Flair': 333, 'Spleen': 334, 'Diaphragm': 335, 'pleural effusion': 336, 'Hip bones': 337, 'chest': 338, 'multilobulated': 339, 'temporal and lateral occipital lobes': 340, 'Mixed intensity': 341, 'On the left': 342, 'XR': 343, '4': 344, 'acute stroke': 345, 'decreased muscle bulk': 346, '6.5 x 6.2 x 8.8cm': 347, 'right vertebral artery sign': 348, 'Upper left': 349, 'mucosal hyperemia': 350, '5cm': 351, 'ascending colon': 352, 'R hemidiaphragm': 353, 'Almost entire right side': 354, 'fluid': 355, 'In the vasculature': 356, 'Pons': 357, 'Necrotic tissue': 358, 'Mediport': 359, '2': 360, 'Midline': 361, 'Breasts': 362, 'double arch': 363, 'emphysema': 364, 'reduced sulci': 365, 'Black': 366, 'Heterogeneous': 367, 'Man': 368, 'anterior mediastinum': 369, 'Cystic': 370, '5mm': 371, 'plain film': 372, 'left': 373, 'bilateral parietal lobes': 374, 'Abnormal': 375, 'Chronic sinusitis vs. hemorrhage': 376, 'Frontal and Occipital': 377, 'basal ganglia, cerebellum, cerebral cortex': 378, 'White matter plaques': 379, 'In the bowels': 380, 'plain film xray': 381, 'early hemorrhage': 382, \"On the patient's left\": 383, 'Short section irregular contour': 384, 'Bilateral lungs': 385, 'hydropneumothorax': 386, 'Stomach': 387, 'DWI Diffusion weighted': 388, 'basilar artery thrombosis': 389, 'In the bowel': 390, 'gadolinium': 391, 'Right of the midline, superior to the right hilum': 392, 'In the midline': 393, '2.5cm x 1.7cm x 1.6cm': 394, 'Radiolucent': 395, 'Hypointense': 396, 'Non-enhanced': 397, 'AP': 398, 'Mid abdomen': 399, 'Chest radiograph': 400, 'FLAIR': 401, 'Sigmoid Flexture of the Colon': 402, 'Underneath the right hemidiaphragm': 403, 'Posterior fossa': 404, 'Right Sylvian Fissure': 405, 'Right Subclavian Vein': 406, 'Normal': 407, 'Oral and IV': 408, 'Base': 409, 'Lower lung fields': 410, 'Motion': 411, 'Diverticuli': 412, 'Basal Ganglia': 413, 'Psoas Major Muscle': 414, 'MRI - T2 Weighted': 415, 'Posterior to the gastric antrum': 416, 'MR-FLAIR': 417, 'Calcified atherosclerosis': 418, 'non-contrast': 419, 'Hyperinflation': 420, 'abnormal': 421, 'T2-weighted': 422, 'right lobe of the liver': 423, 'Aorta': 424, 'right subdural hematoma': 425, 'Appendix': 426, 'soft tissue mass in the region of the terminal ileum with mesenteric lymphadenopathy': 427, 'hepatocellular carcioma': 428, 'punctate': 429, 'right sided pleural effusion': 430, 'cavum vergae': 431, 'central hyperintensity and surrounding hypointensity': 432, 'calcifications': 433, '5.6cm focal, predominantly hypodense': 434, 'portal vein occlusion': 435, 'Portal vein': 436, 'there is massive cerebral hemisphere edema': 437, 'appendicitis': 438, 'retrocardiac': 439, 'nothing': 440, 'Left thalamus': 441, 'small subdural hematoma with cerebral edema': 442, 'proximal aspect of the appendix': 443, 'adjacent to the appendix': 444, 'left MCA': 445, 'MS plaques': 446, 'peritoneum': 447, 'all three vascular distributions': 448, 'diffuse': 449, 'multiple sclerosis': 450, 'cerebrum and lateral ventricles': 451, 'right convexity': 452, 'abnormal hyperintensity in the right occipital lobe': 453, 'pneumonia': 454, 'hyperintensity of the left basal ganglia': 455, 'Partial silhouetting': 456, 'Splenule': 457, 'necrosis': 458, 'posteriorly': 459, 'YES': 460, 'The lungs': 461, 'head/neck CT': 462, 'Biopsy': 463, 'metastases, infection/abcess, glioblastoma': 464, 'Toxoplasma, lymphoma, abscesses, other brain tumors': 465, 'Cancer': 466, 'ureteral obstruction': 467, 'lentiform': 468, 'Biconvex': 469, 'Psoas muscles': 470, 'epidural hematoma': 471, 'sinusitis': 472, 'viral': 473, 'Parasitic': 474, 'If the heart diameter is greater than half the diameter of the thoracic cavity.': 475, 'C-T ratio': 476, 'abcess': 477, 'Bronchiectasis': 478, 'Thickening of bronchi': 479, 'CSF is brightly lit': 480, 'Aorta enhancement': 481, 'costophrenic angle blunting': 482, 'Fluid in the pleural space': 483, 'aorta is bright': 484, 'Enhancement of vessels': 485, 'genetic': 486, 'Vascular': 487, 'crescent': 488, 'Concave': 489, 'Right MCA': 490, 'a catheter': 491, 'quadrantopia, aphasia, memory deficit, etc.': 492, 'Motor weakness, sensory deficits, and left neglect': 493, 'viral/inflammatory': 494, 'CVA': 495, 'In the cortex and basal ganglia bilaterally': 496, 'left lobe mass 1.5 x 1.8 cm': 497, 'Not sure': 498, 'Pituitary fossa': 499, 'nephroblastomatosis': 500, 'Location of the contrast?': 501, 'Haustra': 502, 'Maybe': 503, 'RUQ pain, jaundice,weight loss?': 504, 'abdominal pain': 505, 'pleural plaques': 506, 'Air?': 507, 'haustra': 508, 'Trace the gallbladder emptying?': 509, 'cystic duct is more tortuous': 510, 'Tumors, gallstones': 511, 'Stones, cancer, infection, anatomic variants': 512, 'Gray matter': 513, 'plicae circulares': 514, 'More acute means more inflammation-leading to enhancement?': 515, 'Less enhancement': 516, 'CSF is white.': 517, 'White versus grey matter brightness': 518, 'Adenopathy': 519, 'Infection': 520, 'Paratracheal area': 521, 'Not sure.': 522, '5%': 523, 'Rounded, well-defined pulmonary nodules varying in size and pattern': 524, 'pulmonary nodules': 525, 'bilateral pleural effusion': 526, 'basal ganglia (caudate and putamen)': 527, 'Cerebellum': 528, 'cardiopulmonary': 529, 'Semi-upright position': 530, 'Sharp costophrenic angles': 531, 'Right parietal': 532, 'horsehoe kidney': 533, 'Posterior lung seen in the image section': 534, 'Pneumothorax': 535, 'bilateral': 536, 'both sides': 537, 'Exterior': 538, 'Outside': 539, 'blunting of the costophrenic angle, loss of the right hemidiaphragm and right heart border': 540, 'Increased opacity in the left retrocardiac region': 541, 'Right paratracheal mass lesion': 542, 'ring-enhancing lesion': 543, 'It is enlarged with prominence of the aortic knob': 544, 'Well-circumscribed': 545, 'exophytic cyst': 546, 'Shrunken and nodular': 547, 'Infarcts': 548, 'embolus': 549, 'Cortical ribbon of right occipital lobe with extension into right posterior temporal lobe': 550, 'Irregular': 551, 'infiltrative': 552, '12': 553, 'On top of the patient': 554, \" superficial to the patient's skin\": 555, 'Nucleus Pulposus': 556}\n"
          ]
        }
      ],
      "source": [
        "answer_to_label = {answer: idx for idx, answer in enumerate(df['answer'].unique())}\n",
        "answer_to_label = {str(k): v for k, v in answer_to_label.items()}\n",
        "print(answer_to_label)"
      ],
      "id": "c3d371ea"
    },
    {
      "cell_type": "code",
      "execution_count": null,
      "metadata": {
        "colab": {
          "base_uri": "https://localhost:8080/"
        },
        "id": "9f212088",
        "outputId": "c1f78e0b-df35-4497-d556-4dee3b9dd200"
      },
      "outputs": [
        {
          "name": "stdout",
          "output_type": "stream",
          "text": [
            "{'0': 'Yes', '1': 'No', '2': 'ultrasound', '3': 'no', '4': 'The extremities', '5': 'yes', '6': 'left temporal lobe', '7': 'Cardiovascular', '8': 'vasculature', '9': 'MRI Diffusion Weighted', '10': 'the brain', '11': 'Posterior-Anterior', '12': 'Chest X-ray', '13': 'Axial', '14': 'Asymmetric', '15': 'Pulmonary nodules', '16': 'Free air', '17': 'hypodense lesion', '18': 'GI', '19': 'Ring-enhancing lesion', '20': 'Diffuse', '21': 'CT', '22': 'Chest x-ray', '23': 'Pancreas', '24': 'Right upper lobe', '25': 'Hypodense', '26': 'Left hepatic lobe', '27': 'Lungs', '28': 'Bilateral', '29': 'Cirrhosis', '30': 'Atherosclerotic calcification', '31': 'right parietal lobe', '32': 'Chest', '33': 'metastasis', '34': 'axial', '35': 'PA', '36': 'Enlarged', '37': 'Volume loss', '38': 'one', '39': 'extraluminal air and small fluid collection', '40': 'Nodular opacities', '41': 'extra-axial and at the right choroidal fissure', '42': 'Prior surgery', '43': 'Ring-enhancing lesions', '44': 'right temporal lobe', '45': 'Gallstones', '46': 'Right', '47': 'abscess', '48': 'Cystic lesions', '49': 'middle mogul', '50': 'Right lung', '51': 'enlarged, fluid-filled', '52': 'Pancreatic body', '53': 'Right lobe of the liver', '54': 'Right hemisphere', '55': 'Right PCA', '56': 'Basal ganglia', '57': 'Right superior cavoatrial junction', '58': 'x-ray', '59': 'Ischemia', '60': 'Suprasellar cistern', '61': 'Above', '62': '4th and 5th', '63': 'T5', '64': 'Less than half the thorax', '65': 'None', '66': '5 cm', '67': 'Superior', '68': 'High on the image', '69': 'Right side', '70': 'Left side', '71': 'Periappendiceal fluid and fat stranding', '72': 'One', '73': 'kidneys', '74': 'Small bowel', '75': 'Left temporal lobe', '76': 'Left', '77': 'Heart \\tlungs', '78': 'It is less than half the width of the thorax', '79': 'Left kidney', '80': 'Both', '81': 'more dense', '82': 'cystic lesions', '83': 'less dense', '84': 'surrounding tissue', '85': 'Less dense', '86': 'The surrounding tissue', '87': 'Blood vessel', '88': 'Above the clavicles bilaterally', '89': 'Gastrointestinal', '90': 'Right lower lobe', '91': 'In the thorasic aorta', '92': 'Width of aorta', '93': 'Posterior to the appendix', '94': 'Psoas muscle', '95': '7th rib', '96': 'Left lung', '97': 'Edematous', '98': 'Right lung base', '99': 'Anterior mediastinum', '100': 'Right lung hilum', '101': 'left hemisphere', '102': 'Right lobe', '103': 'On the right shoulder.', '104': 'Pacemaker', '105': 'A bullous lesion', '106': 'X-ray', '107': 'Not seen here', '108': 'In the right hilum', '109': 'Upper right lobe', '110': 'Smaller', '111': 'Contrast in the intestines', '112': 'Calcifications', '113': 'Skull \\tcartilage and medulla', '114': 'The right bronchus', '115': 'Left upper lobe', '116': 'Lung', '117': 'Imaging artifacts', '118': 'Contrast', '119': 'Posteroanterior', '120': 'Plain film x-ray', '121': 'Right frontal lobe', '122': 'The small intestines', '123': 'It is shifted to the right', '124': 'Occipital lobe', '125': 'The diaphragm', '126': 'A bit', '127': 'The posterior horn of the left lateral ventricle', '128': 'The liver', '129': 'Infarcted areas', '130': 'Just one', '131': 'Fat accumulations', '132': 'CT with contrast', '133': 'Scoliosis', '134': 'lateral ventricles', '135': 'Solid', '136': 'supratentorial', '137': 'Female', '138': '10-20 minutes', '139': 'White matter', '140': 'Lateral ventricles', '141': 'Abscess', '142': 'Large bowel', '143': 'lungs \\tbony thoracic cavit y\\tmediastinum and great vessels', '144': 'retroperitoneum; retroperitoneal space', '145': '~15 minutes\\tpotentially faster with newer imaging systems', '146': 'fat', '147': 'Medical process', '148': 'moderate edema', '149': 'mid left subclavian vein', '150': 'anterior to the transverse colon', '151': 'ring enhancing lesion in the left occipital lobe', '152': 'T2-MRI', '153': 'parietal and occipital lobes', '154': 'PRES', '155': 'cardiomegaly with pulmonary edema', '156': 'CNS', '157': 'cecum', '158': 'mass', '159': 'pulmonary/lymphatic', '160': 'CXR', '161': 'Coronal', '162': 'ring enhancing lesion', '163': 'Left Apical Pneumothorax', '164': 'coronal', '165': 'vascular', '166': 'cardiomegaly', '167': 'sternotomy wires and surgical clips', '168': 'head of the pancreas', '169': 'FLAIR MRI', '170': 'The pancreatic head', '171': 'T2 weighted MRI', '172': 'Left lateral aspect of anterior peritoneum', '173': 'The base of the cecum', '174': 'Left mid lung', '175': '4th ventricle', '176': 'Fat stranding around the appendix, thickened appendiceal walls, dilated appendix, and an appendicolith is seen as well', '177': 'Ring enhancing lesion in the right frontal lobe', '178': 'Right lenticular nucleus', '179': 'Air', '180': '3rd rib', '181': 'X-ray plain film', '182': 'The left kidney', '183': 'Respiratory System', '184': 'The abdomen', '185': 'Xray - plain film', '186': 'Omental caking', '187': 'Diffusion Weighted Imaging (DWI)', '188': 'Axial plane', '189': 'MRI', '190': 'The right frontal lobe', '191': 'The pancreas', '192': 'Contrast CT with GI and IV contrast', '193': 'The left costophrenic angle is blunted', '194': 'Non-contrast CT', '195': 'The left occipital lobe', '196': 'CT with GI and IV contrast', '197': 'The aorta', '198': 'The aorta and the inferior vena cava', '199': 'The 3rd ventricle and the lateral ventricles', '200': 'abdomen', '201': 'Regression of left frontal mass', '202': 'Subarachnoid', '203': 'Medial rectus', '204': 'Imagine the patient is laying down and you are looking from the feet', '205': 'Bowel contents light up on image', '206': 'IVC', '207': 'Chest xray', '208': 'Loculated', '209': 'chest x Ray', '210': 'Medial and lateral rectus', '211': 'Pineal gland', '212': 'Cardiac region', '213': 'Infarct', '214': 'Congenital developmental disorder? History of surgery and past manipulation?', '215': 'MR FLAIR', '216': 'Right cerebellum', '217': 'R frontal lobe', '218': 'Right Cerebellum', '219': 'Respiratory \\tcardia c\\tmusculoskeletal', '220': 'CSF is white', '221': 'T2', '222': 'Ring enhancing lesion', '223': 'coronal plane?', '224': 'bilateral cerebellum', '225': 'Left Parietal lobe', '226': 'Sternal wires', '227': 'right sided aortic arch', '228': 'cerebellum', '229': 'MRI - T2 weighted', '230': 'with contrast', '231': 'right lower lateral lung field', '232': '3.4 cm', '233': 'sella and suprasellar cistern', '234': 'T2 weighted', '235': 'Brain', '236': 'Left thalamus and basal ganglia', '237': 'Oculomotor nerve (CN III) and Trigeminal nerves (CN V)', '238': 'PA Xray', '239': 'Basilar artery', '240': 'With contrast', '241': 'heterogeneous', '242': 'right lateral ventricle', '243': 'DWI', '244': 'Right cerebellopontine angle', '245': 'Kidneys', '246': 'Adipose tissue', '247': 'Upper lobes', '248': 'CSF', '249': 'MRI - T1 weighted', '250': 'Hydrocephalus', '251': 'right', '252': 'Xray', '253': 'Right posteroinferior cerebellum', '254': 'bleeding in the right posteroinferior cerebellum', '255': 'Left cerebellum', '256': 'Supine (see air-fluid level)', '257': 'Gallbladder', '258': 'Ribs', '259': 'Choroid plexus', '260': 'Cartilage is not well viewed by x rays', '261': 'Lung markings present all the way laterally to the ribs', '262': 'The right mainstem bronchus is more in line with the trachea than the left', '263': 'air fluid level', '264': 'Intestine', '265': 'Stomach bubble', '266': 'Right PICA', '267': 'Sulcal effacement', '268': 'Temporal lobe', '269': 'L2', '270': 'L2-3', '271': 'Lateral film as well as PA', '272': 'Maxillary sinuses', '273': 'Lying supine with their feet towards the screen', '274': 'Left occipital lobe', '275': 'Right temporal lobe', '276': 'Sacroiliac joint', '277': 'Fat', '278': 'Right vs left sided pathology', '279': 'Varicocele', '280': 'Calcification', '281': 'Elliptical', '282': 'Smooth', '283': 'Left temporal horn', '284': 'Ring-enhancing', '285': 'Right side of the trachea', '286': 'Posterior brain', '287': 'hypoxic ischemic injury', '288': 'Loss of normal gray-white matter junction', '289': 'intestines', '290': 'Abdomen and pelvis', '291': 'Lateral and third ventricular hydrocephalus', '292': 'Retrocardiac', '293': 'Below the 7th rib in the right lung.', '294': 'Single lung nodule', '295': 'Blind loop syndrome', '296': 'Blind-ending loop of bowel arising from the cecum', '297': 'Pineal region', '298': 'Bilateral frontal lobes', '299': 'MRI-DWI', '300': 'Right colon', '301': 'Isointense', '302': 'Hyperintense', '303': 'IV contrast', '304': 'Diverticulitis', '305': 'Micronodular', '306': 'Left rectus abdominus', '307': 'nipple location', '308': 'bilateral frontal lobes and body of corpus callosum', '309': 'distal basilar artery', '310': 'suprasellar', '311': 'MRI/FLAIR', '312': 'left ACA and MCA', '313': 'brain', '314': 'Caudate, putamen, left parietal', '315': 'anterior cerebrum', '316': 'Anterior surface', '317': 'ascites', '318': 'MRI-FLAIR', '319': 'right kidney', '320': 'Hemorrhage', '321': 'kidney cyst', '322': 'Pericholecystic fluid', '323': 'MR - T2 weighted', '324': 'contrast', '325': 'fatty infiltration', '326': 'jejunum', '327': 'MR - ADC Map', '328': 'nodules', '329': 'descending colon', '330': 'thalami, left occipital lobe, brainstem and left cerebellum', '331': 'pancreas', '332': 'Adjacent to vertebrae', '333': 'MR - Flair', '334': 'Spleen', '335': 'Diaphragm', '336': 'pleural effusion', '337': 'Hip bones', '338': 'chest', '339': 'multilobulated', '340': 'temporal and lateral occipital lobes', '341': 'Mixed intensity', '342': 'On the left', '343': 'XR', '344': '4', '345': 'acute stroke', '346': 'decreased muscle bulk', '347': '6.5 x 6.2 x 8.8cm', '348': 'right vertebral artery sign', '349': 'Upper left', '350': 'mucosal hyperemia', '351': '5cm', '352': 'ascending colon', '353': 'R hemidiaphragm', '354': 'Almost entire right side', '355': 'fluid', '356': 'In the vasculature', '357': 'Pons', '358': 'Necrotic tissue', '359': 'Mediport', '360': '2', '361': 'Midline', '362': 'Breasts', '363': 'double arch', '364': 'emphysema', '365': 'reduced sulci', '366': 'Black', '367': 'Heterogeneous', '368': 'Man', '369': 'anterior mediastinum', '370': 'Cystic', '371': '5mm', '372': 'plain film', '373': 'left', '374': 'bilateral parietal lobes', '375': 'Abnormal', '376': 'Chronic sinusitis vs. hemorrhage', '377': 'Frontal and Occipital', '378': 'basal ganglia, cerebellum, cerebral cortex', '379': 'White matter plaques', '380': 'In the bowels', '381': 'plain film xray', '382': 'early hemorrhage', '383': \"On the patient's left\", '384': 'Short section irregular contour', '385': 'Bilateral lungs', '386': 'hydropneumothorax', '387': 'Stomach', '388': 'DWI Diffusion weighted', '389': 'basilar artery thrombosis', '390': 'In the bowel', '391': 'gadolinium', '392': 'Right of the midline, superior to the right hilum', '393': 'In the midline', '394': '2.5cm x 1.7cm x 1.6cm', '395': 'Radiolucent', '396': 'Hypointense', '397': 'Non-enhanced', '398': 'AP', '399': 'Mid abdomen', '400': 'Chest radiograph', '401': 'FLAIR', '402': 'Sigmoid Flexture of the Colon', '403': 'Underneath the right hemidiaphragm', '404': 'Posterior fossa', '405': 'Right Sylvian Fissure', '406': 'Right Subclavian Vein', '407': 'Normal', '408': 'Oral and IV', '409': 'Base', '410': 'Lower lung fields', '411': 'Motion', '412': 'Diverticuli', '413': 'Basal Ganglia', '414': 'Psoas Major Muscle', '415': 'MRI - T2 Weighted', '416': 'Posterior to the gastric antrum', '417': 'MR-FLAIR', '418': 'Calcified atherosclerosis', '419': 'non-contrast', '420': 'Hyperinflation', '421': 'abnormal', '422': 'T2-weighted', '423': 'right lobe of the liver', '424': 'Aorta', '425': 'right subdural hematoma', '426': 'Appendix', '427': 'soft tissue mass in the region of the terminal ileum with mesenteric lymphadenopathy', '428': 'hepatocellular carcioma', '429': 'punctate', '430': 'right sided pleural effusion', '431': 'cavum vergae', '432': 'central hyperintensity and surrounding hypointensity', '433': 'calcifications', '434': '5.6cm focal, predominantly hypodense', '435': 'portal vein occlusion', '436': 'Portal vein', '437': 'there is massive cerebral hemisphere edema', '438': 'appendicitis', '439': 'retrocardiac', '440': 'nothing', '441': 'Left thalamus', '442': 'small subdural hematoma with cerebral edema', '443': 'proximal aspect of the appendix', '444': 'adjacent to the appendix', '445': 'left MCA', '446': 'MS plaques', '447': 'peritoneum', '448': 'all three vascular distributions', '449': 'diffuse', '450': 'multiple sclerosis', '451': 'cerebrum and lateral ventricles', '452': 'right convexity', '453': 'abnormal hyperintensity in the right occipital lobe', '454': 'pneumonia', '455': 'hyperintensity of the left basal ganglia', '456': 'Partial silhouetting', '457': 'Splenule', '458': 'necrosis', '459': 'posteriorly', '460': 'YES', '461': 'The lungs', '462': 'head/neck CT', '463': 'Biopsy', '464': 'metastases, infection/abcess, glioblastoma', '465': 'Toxoplasma, lymphoma, abscesses, other brain tumors', '466': 'Cancer', '467': 'ureteral obstruction', '468': 'lentiform', '469': 'Biconvex', '470': 'Psoas muscles', '471': 'epidural hematoma', '472': 'sinusitis', '473': 'viral', '474': 'Parasitic', '475': 'If the heart diameter is greater than half the diameter of the thoracic cavity.', '476': 'C-T ratio', '477': 'abcess', '478': 'Bronchiectasis', '479': 'Thickening of bronchi', '480': 'CSF is brightly lit', '481': 'Aorta enhancement', '482': 'costophrenic angle blunting', '483': 'Fluid in the pleural space', '484': 'aorta is bright', '485': 'Enhancement of vessels', '486': 'genetic', '487': 'Vascular', '488': 'crescent', '489': 'Concave', '490': 'Right MCA', '491': 'a catheter', '492': 'quadrantopia, aphasia, memory deficit, etc.', '493': 'Motor weakness, sensory deficits, and left neglect', '494': 'viral/inflammatory', '495': 'CVA', '496': 'In the cortex and basal ganglia bilaterally', '497': 'left lobe mass 1.5 x 1.8 cm', '498': 'Not sure', '499': 'Pituitary fossa', '500': 'nephroblastomatosis', '501': 'Location of the contrast?', '502': 'Haustra', '503': 'Maybe', '504': 'RUQ pain, jaundice,weight loss?', '505': 'abdominal pain', '506': 'pleural plaques', '507': 'Air?', '508': 'haustra', '509': 'Trace the gallbladder emptying?', '510': 'cystic duct is more tortuous', '511': 'Tumors, gallstones', '512': 'Stones, cancer, infection, anatomic variants', '513': 'Gray matter', '514': 'plicae circulares', '515': 'More acute means more inflammation-leading to enhancement?', '516': 'Less enhancement', '517': 'CSF is white.', '518': 'White versus grey matter brightness', '519': 'Adenopathy', '520': 'Infection', '521': 'Paratracheal area', '522': 'Not sure.', '523': '5%', '524': 'Rounded, well-defined pulmonary nodules varying in size and pattern', '525': 'pulmonary nodules', '526': 'bilateral pleural effusion', '527': 'basal ganglia (caudate and putamen)', '528': 'Cerebellum', '529': 'cardiopulmonary', '530': 'Semi-upright position', '531': 'Sharp costophrenic angles', '532': 'Right parietal', '533': 'horsehoe kidney', '534': 'Posterior lung seen in the image section', '535': 'Pneumothorax', '536': 'bilateral', '537': 'both sides', '538': 'Exterior', '539': 'Outside', '540': 'blunting of the costophrenic angle, loss of the right hemidiaphragm and right heart border', '541': 'Increased opacity in the left retrocardiac region', '542': 'Right paratracheal mass lesion', '543': 'ring-enhancing lesion', '544': 'It is enlarged with prominence of the aortic knob', '545': 'Well-circumscribed', '546': 'exophytic cyst', '547': 'Shrunken and nodular', '548': 'Infarcts', '549': 'embolus', '550': 'Cortical ribbon of right occipital lobe with extension into right posterior temporal lobe', '551': 'Irregular', '552': 'infiltrative', '553': '12', '554': 'On top of the patient', '555': \" superficial to the patient's skin\", '556': 'Nucleus Pulposus'}\n"
          ]
        }
      ],
      "source": [
        "label_to_answer = {idx: answer for answer, idx in answer_to_label.items()}\n",
        "label_to_answer = {str(k): v for k, v in label_to_answer.items()}\n",
        "print(label_to_answer)"
      ],
      "id": "9f212088"
    },
    {
      "cell_type": "code",
      "execution_count": null,
      "metadata": {
        "colab": {
          "base_uri": "https://localhost:8080/"
        },
        "id": "2360d899",
        "outputId": "6ce9d07b-4f55-451f-dae3-61320f793852"
      },
      "outputs": [
        {
          "name": "stderr",
          "output_type": "stream",
          "text": [
            "Some weights of ViltForQuestionAnswering were not initialized from the model checkpoint at dandelin/vilt-b32-mlm and are newly initialized: ['classifier.0.bias', 'classifier.3.bias', 'classifier.1.bias', 'classifier.0.weight', 'classifier.3.weight', 'classifier.1.weight']\n",
            "You should probably TRAIN this model on a down-stream task to be able to use it for predictions and inference.\n"
          ]
        }
      ],
      "source": [
        "model = ViltForQuestionAnswering.from_pretrained(\"dandelin/vilt-b32-mlm\",\n",
        "                                                 id2label=answer_to_label,\n",
        "                                                 label2id=label_to_answer)\n",
        "processor = ViltProcessor.from_pretrained(\"dandelin/vilt-b32-mlm\")"
      ],
      "id": "2360d899"
    },
    {
      "cell_type": "code",
      "execution_count": null,
      "metadata": {
        "colab": {
          "base_uri": "https://localhost:8080/"
        },
        "id": "93fa860c",
        "outputId": "dff04c35-b2ec-4be7-820e-95cfb80f7f6d"
      },
      "outputs": [
        {
          "name": "stdout",
          "output_type": "stream",
          "text": [
            "3129\n",
            "557\n"
          ]
        }
      ],
      "source": [
        "from transformers import ViltConfig\n",
        "\n",
        "config = ViltConfig.from_pretrained(\"dandelin/vilt-b32-finetuned-vqa\")\n",
        "print(len(config.id2label))\n",
        "print(len(answer_to_label))"
      ],
      "id": "93fa860c"
    },
    {
      "cell_type": "code",
      "execution_count": null,
      "metadata": {
        "id": "600f0b55"
      },
      "outputs": [],
      "source": [
        "class MedicalVQADataset(torch.utils.data.Dataset):\n",
        "    def __init__(self, dataframe, processor, answer_to_label):\n",
        "        self.data = dataframe\n",
        "        self.processor = processor\n",
        "        self.answer_to_label = answer_to_label\n",
        "\n",
        "    def __len__(self):\n",
        "        return len(self.data)\n",
        "\n",
        "    def __getitem__(self, idx):\n",
        "        # Get image + text\n",
        "        item = self.data.iloc[idx]\n",
        "\n",
        "        image = Image.open(item[\"image_name\"]).resize((224, 224))\n",
        "        text = item[\"question\"]\n",
        "\n",
        "        encoding = self.processor(images=image, text=text, padding=\"max_length\", truncation=True, return_tensors=\"pt\")\n",
        "        for k, v in encoding.items():\n",
        "            encoding[k] = v.squeeze()\n",
        "\n",
        "        answer = item['answer']\n",
        "        label = self.answer_to_label.get(answer, -1)  # Returns -1 if answer not in mapping (should not happen)\n",
        "\n",
        "        targets = torch.zeros(len(self.answer_to_label))\n",
        "        targets[label] = 1.0\n",
        "        encoding[\"labels\"] = targets\n",
        "\n",
        "        return encoding\n",
        "\n",
        "from transformers import ViltProcessor\n",
        "\n",
        "from sklearn.model_selection import train_test_split\n",
        "\n",
        "train_df, val_df = train_test_split(df, test_size=0.3, random_state=42)\n",
        "\n",
        "train_dataset = MedicalVQADataset(dataframe=train_df, processor=processor, answer_to_label=answer_to_label)\n",
        "test_dataset = MedicalVQADataset(dataframe=val_df, processor=processor, answer_to_label=answer_to_label)\n"
      ],
      "id": "600f0b55"
    },
    {
      "cell_type": "code",
      "execution_count": null,
      "metadata": {
        "colab": {
          "base_uri": "https://localhost:8080/"
        },
        "id": "ec8c9c86",
        "outputId": "80fea267-65dc-441a-e65f-c813bdebba2c"
      },
      "outputs": [
        {
          "name": "stdout",
          "output_type": "stream",
          "text": [
            "{'input_ids': tensor([  101,  2003,  2045,  1052,  2638,  2819, 25918,  9956,  2638,  2819,\n",
            "         1029,   102,     0,     0,     0,     0,     0,     0,     0,     0,\n",
            "            0,     0,     0,     0,     0,     0,     0,     0,     0,     0,\n",
            "            0,     0,     0,     0,     0,     0,     0,     0,     0,     0]), 'token_type_ids': tensor([0, 0, 0, 0, 0, 0, 0, 0, 0, 0, 0, 0, 0, 0, 0, 0, 0, 0, 0, 0, 0, 0, 0, 0,\n",
            "        0, 0, 0, 0, 0, 0, 0, 0, 0, 0, 0, 0, 0, 0, 0, 0]), 'attention_mask': tensor([1, 1, 1, 1, 1, 1, 1, 1, 1, 1, 1, 1, 0, 0, 0, 0, 0, 0, 0, 0, 0, 0, 0, 0,\n",
            "        0, 0, 0, 0, 0, 0, 0, 0, 0, 0, 0, 0, 0, 0, 0, 0]), 'pixel_values': tensor([[[-0.8510, -0.7098, -0.4902,  ..., -0.3020, -0.2941, -0.2941],\n",
            "         [-0.8510, -0.7176, -0.4980,  ..., -0.4039, -0.3961, -0.3961],\n",
            "         [-0.8510, -0.7255, -0.4980,  ..., -0.5765, -0.5686, -0.5686],\n",
            "         ...,\n",
            "         [-0.9843, -0.9922, -1.0000,  ..., -1.0000, -1.0000, -1.0000],\n",
            "         [-0.9922, -1.0000, -1.0000,  ..., -1.0000, -1.0000, -1.0000],\n",
            "         [-0.9922, -0.9922, -0.9922,  ..., -0.9922, -0.9922, -0.9922]],\n",
            "\n",
            "        [[-0.8510, -0.7098, -0.4902,  ..., -0.3020, -0.2941, -0.2941],\n",
            "         [-0.8510, -0.7176, -0.4980,  ..., -0.4039, -0.3961, -0.3961],\n",
            "         [-0.8510, -0.7255, -0.4980,  ..., -0.5765, -0.5686, -0.5686],\n",
            "         ...,\n",
            "         [-0.9843, -0.9922, -1.0000,  ..., -1.0000, -1.0000, -1.0000],\n",
            "         [-0.9922, -1.0000, -1.0000,  ..., -1.0000, -1.0000, -1.0000],\n",
            "         [-0.9922, -0.9922, -0.9922,  ..., -0.9922, -0.9922, -0.9922]],\n",
            "\n",
            "        [[-0.8510, -0.7098, -0.4902,  ..., -0.3020, -0.2941, -0.2941],\n",
            "         [-0.8510, -0.7176, -0.4980,  ..., -0.4039, -0.3961, -0.3961],\n",
            "         [-0.8510, -0.7255, -0.4980,  ..., -0.5765, -0.5686, -0.5686],\n",
            "         ...,\n",
            "         [-0.9843, -0.9922, -1.0000,  ..., -1.0000, -1.0000, -1.0000],\n",
            "         [-0.9922, -1.0000, -1.0000,  ..., -1.0000, -1.0000, -1.0000],\n",
            "         [-0.9922, -0.9922, -0.9922,  ..., -0.9922, -0.9922, -0.9922]]]), 'pixel_mask': tensor([[1, 1, 1,  ..., 1, 1, 1],\n",
            "        [1, 1, 1,  ..., 1, 1, 1],\n",
            "        [1, 1, 1,  ..., 1, 1, 1],\n",
            "        ...,\n",
            "        [1, 1, 1,  ..., 1, 1, 1],\n",
            "        [1, 1, 1,  ..., 1, 1, 1],\n",
            "        [1, 1, 1,  ..., 1, 1, 1]]), 'labels': tensor([0., 0., 0., 1., 0., 0., 0., 0., 0., 0., 0., 0., 0., 0., 0., 0., 0., 0.,\n",
            "        0., 0., 0., 0., 0., 0., 0., 0., 0., 0., 0., 0., 0., 0., 0., 0., 0., 0.,\n",
            "        0., 0., 0., 0., 0., 0., 0., 0., 0., 0., 0., 0., 0., 0., 0., 0., 0., 0.,\n",
            "        0., 0., 0., 0., 0., 0., 0., 0., 0., 0., 0., 0., 0., 0., 0., 0., 0., 0.,\n",
            "        0., 0., 0., 0., 0., 0., 0., 0., 0., 0., 0., 0., 0., 0., 0., 0., 0., 0.,\n",
            "        0., 0., 0., 0., 0., 0., 0., 0., 0., 0., 0., 0., 0., 0., 0., 0., 0., 0.,\n",
            "        0., 0., 0., 0., 0., 0., 0., 0., 0., 0., 0., 0., 0., 0., 0., 0., 0., 0.,\n",
            "        0., 0., 0., 0., 0., 0., 0., 0., 0., 0., 0., 0., 0., 0., 0., 0., 0., 0.,\n",
            "        0., 0., 0., 0., 0., 0., 0., 0., 0., 0., 0., 0., 0., 0., 0., 0., 0., 0.,\n",
            "        0., 0., 0., 0., 0., 0., 0., 0., 0., 0., 0., 0., 0., 0., 0., 0., 0., 0.,\n",
            "        0., 0., 0., 0., 0., 0., 0., 0., 0., 0., 0., 0., 0., 0., 0., 0., 0., 0.,\n",
            "        0., 0., 0., 0., 0., 0., 0., 0., 0., 0., 0., 0., 0., 0., 0., 0., 0., 0.,\n",
            "        0., 0., 0., 0., 0., 0., 0., 0., 0., 0., 0., 0., 0., 0., 0., 0., 0., 0.,\n",
            "        0., 0., 0., 0., 0., 0., 0., 0., 0., 0., 0., 0., 0., 0., 0., 0., 0., 0.,\n",
            "        0., 0., 0., 0., 0., 0., 0., 0., 0., 0., 0., 0., 0., 0., 0., 0., 0., 0.,\n",
            "        0., 0., 0., 0., 0., 0., 0., 0., 0., 0., 0., 0., 0., 0., 0., 0., 0., 0.,\n",
            "        0., 0., 0., 0., 0., 0., 0., 0., 0., 0., 0., 0., 0., 0., 0., 0., 0., 0.,\n",
            "        0., 0., 0., 0., 0., 0., 0., 0., 0., 0., 0., 0., 0., 0., 0., 0., 0., 0.,\n",
            "        0., 0., 0., 0., 0., 0., 0., 0., 0., 0., 0., 0., 0., 0., 0., 0., 0., 0.,\n",
            "        0., 0., 0., 0., 0., 0., 0., 0., 0., 0., 0., 0., 0., 0., 0., 0., 0., 0.,\n",
            "        0., 0., 0., 0., 0., 0., 0., 0., 0., 0., 0., 0., 0., 0., 0., 0., 0., 0.,\n",
            "        0., 0., 0., 0., 0., 0., 0., 0., 0., 0., 0., 0., 0., 0., 0., 0., 0., 0.,\n",
            "        0., 0., 0., 0., 0., 0., 0., 0., 0., 0., 0., 0., 0., 0., 0., 0., 0., 0.,\n",
            "        0., 0., 0., 0., 0., 0., 0., 0., 0., 0., 0., 0., 0., 0., 0., 0., 0., 0.,\n",
            "        0., 0., 0., 0., 0., 0., 0., 0., 0., 0., 0., 0., 0., 0., 0., 0., 0., 0.,\n",
            "        0., 0., 0., 0., 0., 0., 0., 0., 0., 0., 0., 0., 0., 0., 0., 0., 0., 0.,\n",
            "        0., 0., 0., 0., 0., 0., 0., 0., 0., 0., 0., 0., 0., 0., 0., 0., 0., 0.,\n",
            "        0., 0., 0., 0., 0., 0., 0., 0., 0., 0., 0., 0., 0., 0., 0., 0., 0., 0.,\n",
            "        0., 0., 0., 0., 0., 0., 0., 0., 0., 0., 0., 0., 0., 0., 0., 0., 0., 0.,\n",
            "        0., 0., 0., 0., 0., 0., 0., 0., 0., 0., 0., 0., 0., 0., 0., 0., 0., 0.,\n",
            "        0., 0., 0., 0., 0., 0., 0., 0., 0., 0., 0., 0., 0., 0., 0., 0., 0.])}\n"
          ]
        }
      ],
      "source": [
        "print(train_dataset[1333])"
      ],
      "id": "ec8c9c86"
    },
    {
      "cell_type": "code",
      "execution_count": null,
      "metadata": {
        "id": "ee099b0a"
      },
      "outputs": [],
      "source": [
        "# setup Trainer for training\n",
        "training_args = TrainingArguments(\n",
        "    output_dir='./results',\n",
        "    per_device_train_batch_size=4,\n",
        "    per_device_eval_batch_size=4,\n",
        "    num_train_epochs=300,\n",
        "    save_total_limit = 5,\n",
        "    # https://github.com/huggingface/transformers/issues/14051 evaluation_strategy save_strategy errors\n",
        "    evaluation_strategy=\"epoch\", #load_best_model=True requires evaluation_strategy == save_strategy,\n",
        "    save_strategy='epoch', #https://huggingface.co/transformers/v4.4.2/main_classes/trainer.html\n",
        "    load_best_model_at_end = True,\n",
        "    # When set to True, the parameters save_strategy and save_steps will be ignored and the model will be saved after each evaluation.\n",
        "    #metric_for_best_model = 'f1'\n",
        "    metric_for_best_model = 'accuracy'\n",
        ")"
      ],
      "id": "ee099b0a"
    },
    {
      "cell_type": "code",
      "execution_count": null,
      "metadata": {
        "id": "de7aad26"
      },
      "outputs": [],
      "source": [
        "from sklearn.metrics import accuracy_score, precision_recall_fscore_support, confusion_matrix, ConfusionMatrixDisplay\n",
        "from sklearn.metrics import precision_recall_fscore_support\n",
        "import numpy as np\n",
        "import matplotlib.pyplot as plt\n",
        "accuracy_sum=[]\n",
        "precision_sum=[]\n",
        "f1_sum=[]\n",
        "recall_sum=[]"
      ],
      "id": "de7aad26"
    },
    {
      "cell_type": "code",
      "execution_count": null,
      "metadata": {
        "id": "1a88b7ff"
      },
      "outputs": [],
      "source": [
        "def compute_metrics(pred):\n",
        "    labels = np.argmax(pred.label_ids, axis=1)\n",
        "    #labels = pred.label_ids\n",
        "    preds = pred.predictions.argmax(-1)\n",
        "    precision, recall, f1, _ = precision_recall_fscore_support(labels, preds, average='weighted')\n",
        "    acc = accuracy_score(labels, preds)\n",
        "    accuracy_sum.append(acc)\n",
        "    precision_sum.append(precision)\n",
        "    f1_sum.append(f1)\n",
        "    recall_sum.append(recall)\n",
        "    return {\n",
        "        'accuracy': acc,\n",
        "        'f1': f1,\n",
        "        'precision': precision,\n",
        "        'recall': recall\n",
        "    }"
      ],
      "id": "1a88b7ff"
    },
    {
      "cell_type": "code",
      "execution_count": null,
      "metadata": {
        "id": "GrZNUdRcxFXw"
      },
      "outputs": [],
      "source": [
        "from transformers import EarlyStoppingCallback"
      ],
      "id": "GrZNUdRcxFXw"
    },
    {
      "cell_type": "code",
      "execution_count": null,
      "metadata": {
        "colab": {
          "background_save": true,
          "base_uri": "https://localhost:8080/",
          "height": 75
        },
        "id": "1a8aec35",
        "outputId": "b0ad5c5c-da90-433d-c133-8a86c212fe38"
      },
      "outputs": [
        {
          "data": {
            "text/html": [
              "\n",
              "    <div>\n",
              "      \n",
              "      <progress value='9456' max='118200' style='width:300px; height:20px; vertical-align: middle;'></progress>\n",
              "      [  9456/118200 50:06 < 9:36:19, 3.14 it/s, Epoch 24/300]\n",
              "    </div>\n",
              "    <table border=\"1\" class=\"dataframe\">\n",
              "  <thead>\n",
              " <tr style=\"text-align: left;\">\n",
              "      <th>Epoch</th>\n",
              "      <th>Training Loss</th>\n",
              "      <th>Validation Loss</th>\n",
              "      <th>Accuracy</th>\n",
              "      <th>F1</th>\n",
              "      <th>Precision</th>\n",
              "      <th>Recall</th>\n",
              "    </tr>\n",
              "  </thead>\n",
              "  <tbody>\n",
              "    <tr>\n",
              "      <td>1</td>\n",
              "      <td>No log</td>\n",
              "      <td>5.064815</td>\n",
              "      <td>0.171852</td>\n",
              "      <td>0.076342</td>\n",
              "      <td>0.151526</td>\n",
              "      <td>0.171852</td>\n",
              "    </tr>\n",
              "    <tr>\n",
              "      <td>2</td>\n",
              "      <td>24.490500</td>\n",
              "      <td>4.838281</td>\n",
              "      <td>0.281481</td>\n",
              "      <td>0.189282</td>\n",
              "      <td>0.190311</td>\n",
              "      <td>0.281481</td>\n",
              "    </tr>\n",
              "    <tr>\n",
              "      <td>3</td>\n",
              "      <td>4.582500</td>\n",
              "      <td>4.770627</td>\n",
              "      <td>0.266667</td>\n",
              "      <td>0.184642</td>\n",
              "      <td>0.268457</td>\n",
              "      <td>0.266667</td>\n",
              "    </tr>\n",
              "    <tr>\n",
              "      <td>4</td>\n",
              "      <td>4.109300</td>\n",
              "      <td>4.777622</td>\n",
              "      <td>0.293333</td>\n",
              "      <td>0.231717</td>\n",
              "      <td>0.272287</td>\n",
              "      <td>0.293333</td>\n",
              "    </tr>\n",
              "    <tr>\n",
              "      <td>5</td>\n",
              "      <td>4.109300</td>\n",
              "      <td>4.716037</td>\n",
              "      <td>0.331852</td>\n",
              "      <td>0.277560</td>\n",
              "      <td>0.266851</td>\n",
              "      <td>0.331852</td>\n",
              "    </tr>\n",
              "    <tr>\n",
              "      <td>6</td>\n",
              "      <td>3.492900</td>\n",
              "      <td>4.918956</td>\n",
              "      <td>0.343704</td>\n",
              "      <td>0.297382</td>\n",
              "      <td>0.271806</td>\n",
              "      <td>0.343704</td>\n",
              "    </tr>\n",
              "    <tr>\n",
              "      <td>7</td>\n",
              "      <td>2.688100</td>\n",
              "      <td>4.803799</td>\n",
              "      <td>0.373333</td>\n",
              "      <td>0.344344</td>\n",
              "      <td>0.330960</td>\n",
              "      <td>0.373333</td>\n",
              "    </tr>\n",
              "    <tr>\n",
              "      <td>8</td>\n",
              "      <td>2.045500</td>\n",
              "      <td>5.155110</td>\n",
              "      <td>0.321481</td>\n",
              "      <td>0.297335</td>\n",
              "      <td>0.324511</td>\n",
              "      <td>0.321481</td>\n",
              "    </tr>\n",
              "    <tr>\n",
              "      <td>9</td>\n",
              "      <td>1.502200</td>\n",
              "      <td>5.123237</td>\n",
              "      <td>0.395556</td>\n",
              "      <td>0.373458</td>\n",
              "      <td>0.373779</td>\n",
              "      <td>0.395556</td>\n",
              "    </tr>\n",
              "    <tr>\n",
              "      <td>10</td>\n",
              "      <td>1.502200</td>\n",
              "      <td>5.068651</td>\n",
              "      <td>0.417778</td>\n",
              "      <td>0.397788</td>\n",
              "      <td>0.399254</td>\n",
              "      <td>0.417778</td>\n",
              "    </tr>\n",
              "    <tr>\n",
              "      <td>11</td>\n",
              "      <td>0.941900</td>\n",
              "      <td>5.499993</td>\n",
              "      <td>0.400000</td>\n",
              "      <td>0.376675</td>\n",
              "      <td>0.375875</td>\n",
              "      <td>0.400000</td>\n",
              "    </tr>\n",
              "    <tr>\n",
              "      <td>12</td>\n",
              "      <td>0.620400</td>\n",
              "      <td>5.553066</td>\n",
              "      <td>0.426667</td>\n",
              "      <td>0.410216</td>\n",
              "      <td>0.413511</td>\n",
              "      <td>0.426667</td>\n",
              "    </tr>\n",
              "    <tr>\n",
              "      <td>13</td>\n",
              "      <td>0.404400</td>\n",
              "      <td>5.866116</td>\n",
              "      <td>0.420741</td>\n",
              "      <td>0.406937</td>\n",
              "      <td>0.409180</td>\n",
              "      <td>0.420741</td>\n",
              "    </tr>\n",
              "    <tr>\n",
              "      <td>14</td>\n",
              "      <td>0.243900</td>\n",
              "      <td>6.077900</td>\n",
              "      <td>0.441481</td>\n",
              "      <td>0.430085</td>\n",
              "      <td>0.433750</td>\n",
              "      <td>0.441481</td>\n",
              "    </tr>\n",
              "    <tr>\n",
              "      <td>15</td>\n",
              "      <td>0.243900</td>\n",
              "      <td>6.400677</td>\n",
              "      <td>0.447407</td>\n",
              "      <td>0.433561</td>\n",
              "      <td>0.445859</td>\n",
              "      <td>0.447407</td>\n",
              "    </tr>\n",
              "    <tr>\n",
              "      <td>16</td>\n",
              "      <td>0.139300</td>\n",
              "      <td>7.015204</td>\n",
              "      <td>0.438519</td>\n",
              "      <td>0.433032</td>\n",
              "      <td>0.456895</td>\n",
              "      <td>0.438519</td>\n",
              "    </tr>\n",
              "    <tr>\n",
              "      <td>17</td>\n",
              "      <td>0.076000</td>\n",
              "      <td>7.283614</td>\n",
              "      <td>0.437037</td>\n",
              "      <td>0.428454</td>\n",
              "      <td>0.437463</td>\n",
              "      <td>0.437037</td>\n",
              "    </tr>\n",
              "    <tr>\n",
              "      <td>18</td>\n",
              "      <td>0.049500</td>\n",
              "      <td>7.514981</td>\n",
              "      <td>0.419259</td>\n",
              "      <td>0.414385</td>\n",
              "      <td>0.425657</td>\n",
              "      <td>0.419259</td>\n",
              "    </tr>\n",
              "    <tr>\n",
              "      <td>19</td>\n",
              "      <td>0.049500</td>\n",
              "      <td>7.626139</td>\n",
              "      <td>0.454815</td>\n",
              "      <td>0.440316</td>\n",
              "      <td>0.445546</td>\n",
              "      <td>0.454815</td>\n",
              "    </tr>\n",
              "    <tr>\n",
              "      <td>20</td>\n",
              "      <td>0.032000</td>\n",
              "      <td>7.985277</td>\n",
              "      <td>0.444444</td>\n",
              "      <td>0.435704</td>\n",
              "      <td>0.451827</td>\n",
              "      <td>0.444444</td>\n",
              "    </tr>\n",
              "    <tr>\n",
              "      <td>21</td>\n",
              "      <td>0.041000</td>\n",
              "      <td>8.049666</td>\n",
              "      <td>0.447407</td>\n",
              "      <td>0.436851</td>\n",
              "      <td>0.455755</td>\n",
              "      <td>0.447407</td>\n",
              "    </tr>\n",
              "    <tr>\n",
              "      <td>22</td>\n",
              "      <td>0.110400</td>\n",
              "      <td>8.160162</td>\n",
              "      <td>0.438519</td>\n",
              "      <td>0.428958</td>\n",
              "      <td>0.445406</td>\n",
              "      <td>0.438519</td>\n",
              "    </tr>\n",
              "    <tr>\n",
              "      <td>23</td>\n",
              "      <td>0.035800</td>\n",
              "      <td>8.546908</td>\n",
              "      <td>0.445926</td>\n",
              "      <td>0.437636</td>\n",
              "      <td>0.453360</td>\n",
              "      <td>0.445926</td>\n",
              "    </tr>\n",
              "    <tr>\n",
              "      <td>24</td>\n",
              "      <td>0.035800</td>\n",
              "      <td>8.711846</td>\n",
              "      <td>0.428148</td>\n",
              "      <td>0.420869</td>\n",
              "      <td>0.433024</td>\n",
              "      <td>0.428148</td>\n",
              "    </tr>\n",
              "  </tbody>\n",
              "</table><p>"
            ],
            "text/plain": [
              "<IPython.core.display.HTML object>"
            ]
          },
          "metadata": {},
          "output_type": "display_data"
        },
        {
          "data": {
            "text/plain": [
              "TrainOutput(global_step=9456, training_loss=2.415617106126246, metrics={'train_runtime': 3013.5594, 'train_samples_per_second': 156.592, 'train_steps_per_second': 39.223, 'total_flos': 816899083228800.0, 'train_loss': 2.415617106126246, 'epoch': 24.0})"
            ]
          },
          "execution_count": 30,
          "metadata": {},
          "output_type": "execute_result"
        }
      ],
      "source": [
        "trainer = Trainer(\n",
        "    model=model,\n",
        "    args=training_args,\n",
        "    train_dataset=train_dataset,\n",
        "    eval_dataset=test_dataset,\n",
        "    compute_metrics=compute_metrics,\n",
        "    callbacks =[EarlyStoppingCallback(early_stopping_patience=5)],\n",
        "    #change callback from 3 to 5\n",
        ")\n",
        "trainer.train()"
      ],
      "id": "1a8aec35"
    },
    {
      "cell_type": "code",
      "execution_count": null,
      "metadata": {
        "colab": {
          "background_save": true
        },
        "id": "ZKcnqPGj0xKP",
        "outputId": "5dc2c654-305b-4dae-b53e-7b5f6532f406"
      },
      "outputs": [
        {
          "data": {
            "text/html": [
              "\n",
              "    <div>\n",
              "      \n",
              "      <progress value='169' max='169' style='width:300px; height:20px; vertical-align: middle;'></progress>\n",
              "      [169/169 00:22]\n",
              "    </div>\n",
              "    "
            ],
            "text/plain": [
              "<IPython.core.display.HTML object>"
            ]
          },
          "metadata": {},
          "output_type": "display_data"
        },
        {
          "data": {
            "text/plain": [
              "{'eval_loss': 7.626138687133789,\n",
              " 'eval_accuracy': 0.45481481481481484,\n",
              " 'eval_f1': 0.44031613619382926,\n",
              " 'eval_precision': 0.4455455713412353,\n",
              " 'eval_recall': 0.45481481481481484,\n",
              " 'eval_runtime': 22.8287,\n",
              " 'eval_samples_per_second': 29.568,\n",
              " 'eval_steps_per_second': 7.403,\n",
              " 'epoch': 24.0}"
            ]
          },
          "execution_count": 31,
          "metadata": {},
          "output_type": "execute_result"
        }
      ],
      "source": [
        "trainer.evaluate()"
      ],
      "id": "ZKcnqPGj0xKP"
    },
    {
      "cell_type": "code",
      "execution_count": null,
      "metadata": {
        "colab": {
          "background_save": true
        },
        "id": "LmG0Z8ijzpTX",
        "outputId": "ea45dc68-a8df-4c63-e4d5-a9e802fb5064"
      },
      "outputs": [
        {
          "data": {
            "image/png": "[encoded data removed]",
            "text/plain": [
              "<Figure size 640x480 with 1 Axes>"
            ]
          },
          "metadata": {},
          "output_type": "display_data"
        }
      ],
      "source": [
        "# plot validate accurarcy:\n",
        "import matplotlib.ticker as ticker\n",
        "ax = plt.axes()\n",
        "ax.xaxis.set_minor_locator(ticker.MultipleLocator(1))\n",
        "ax.xaxis.set_major_locator(ticker.MultipleLocator(1))\n",
        "plt.plot(accuracy_sum)\n",
        "plt.xlabel('Epoch')\n",
        "plt.ylabel('Accuracy')\n",
        "plt.show()"
      ],
      "id": "LmG0Z8ijzpTX"
    },
    {
      "cell_type": "code",
      "execution_count": null,
      "metadata": {
        "colab": {
          "background_save": true
        },
        "id": "oKV7K4Xazv2X",
        "outputId": "6e6a93dc-5023-4682-8a66-b2466a652202"
      },
      "outputs": [
        {
          "data": {
            "image/png": "[encoded data removed]",
            "text/plain": [
              "<Figure size 640x480 with 1 Axes>"
            ]
          },
          "metadata": {},
          "output_type": "display_data"
        }
      ],
      "source": [
        "# plot Precision:\n",
        "ax = plt.axes()\n",
        "ax.xaxis.set_minor_locator(ticker.MultipleLocator(1))\n",
        "ax.xaxis.set_major_locator(ticker.MultipleLocator(1))\n",
        "plt.plot(precision_sum)\n",
        "plt.xlabel('Epoch')\n",
        "plt.ylabel('Precision')\n",
        "plt.show()"
      ],
      "id": "oKV7K4Xazv2X"
    },
    {
      "cell_type": "code",
      "execution_count": null,
      "metadata": {
        "colab": {
          "background_save": true
        },
        "id": "lLcaDIUMzxgm",
        "outputId": "7df8be07-44c4-4fbc-efca-0ae4e0cad8cd"
      },
      "outputs": [
        {
          "data": {
            "image/png": "[encoded data removed]",
            "text/plain": [
              "<Figure size 640x480 with 1 Axes>"
            ]
          },
          "metadata": {},
          "output_type": "display_data"
        }
      ],
      "source": [
        "# plot f1:\n",
        "ax = plt.axes()\n",
        "ax.xaxis.set_minor_locator(ticker.MultipleLocator(1))\n",
        "ax.xaxis.set_major_locator(ticker.MultipleLocator(1))\n",
        "plt.plot(recall_sum)\n",
        "plt.xlabel('Epoch')\n",
        "plt.ylabel('Recall')\n",
        "plt.show()"
      ],
      "id": "lLcaDIUMzxgm"
    },
    {
      "cell_type": "code",
      "execution_count": null,
      "metadata": {
        "colab": {
          "background_save": true
        },
        "id": "nP8hOVwezy4W",
        "outputId": "196d931a-88ce-435b-d596-1af286ae1e69"
      },
      "outputs": [
        {
          "data": {
            "image/png": "[encoded data removed]",
            "text/plain": [
              "<Figure size 640x480 with 1 Axes>"
            ]
          },
          "metadata": {},
          "output_type": "display_data"
        }
      ],
      "source": [
        "# plot recall:\n",
        "\n",
        "ax = plt.axes()\n",
        "ax.xaxis.set_minor_locator(ticker.MultipleLocator(1))\n",
        "ax.xaxis.set_major_locator(ticker.MultipleLocator(1))\n",
        "plt.plot(f1_sum)\n",
        "plt.xlabel('Epoch')\n",
        "plt.ylabel('f1')\n",
        "plt.show()"
      ],
      "id": "nP8hOVwezy4W"
    }
  ],
  "metadata": {
    "accelerator": "GPU",
    "colab": {
      "machine_shape": "hm",
      "provenance": []
    },
    "kernelspec": {
      "display_name": "Python 3",
      "name": "python3"
    },
    "language_info": {
      "codemirror_mode": {
        "name": "ipython",
        "version": 3
      },
      "file_extension": ".py",
      "mimetype": "text/x-python",
      "name": "python",
      "nbconvert_exporter": "python",
      "pygments_lexer": "ipython3",
      "version": "3.10.11"
    }
  },
  "nbformat": 4,
  "nbformat_minor": 5
}